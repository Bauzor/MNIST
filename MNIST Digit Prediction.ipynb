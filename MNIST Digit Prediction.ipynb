{
 "cells": [
  {
   "cell_type": "markdown",
   "metadata": {},
   "source": [
    "<h1>Analyzing MNIST</h1>\n",
    "<h2>Introduction</h2>\n",
    "<p>In this notebook I take a look at the MNIST data set and use TensorFlow to make multiple models and visualizations on how to analyze the dataset. For those not familiar with the dataset, MNIST is a set of 70 000 hand-written digit images. 60 000 of these images will be used to train our model and 10 000 will be used to test our model.</p>"
   ]
  },
  {
   "cell_type": "code",
   "execution_count": 3,
   "metadata": {
    "ExecuteTime": {
     "end_time": "2018-12-31T21:45:12.828720Z",
     "start_time": "2018-12-31T21:45:09.674180Z"
    }
   },
   "outputs": [],
   "source": [
    "import matplotlib.pyplot as plt # visualization\n",
    "import tensorflow as tf # model maker\n",
    "import numpy as np # linear algebra\n",
    "from sklearn.metrics import confusion_matrix # Determine model accuracy\n",
    "from sklearn.model_selection import train_test_split"
   ]
  },
  {
   "cell_type": "markdown",
   "metadata": {},
   "source": [
    "<h3>Loading the dataset in from Tensorflow/Keras</h3>\n",
    "<p>In order to begin any sort of modeling it is good to bring in all of our data first and have it ready for training. We get our dataset from keras which is a higher level version of tensorflow. we then load the data into their respective variables.</p>"
   ]
  },
  {
   "cell_type": "code",
   "execution_count": 4,
   "metadata": {
    "ExecuteTime": {
     "end_time": "2018-12-31T21:45:13.113945Z",
     "start_time": "2018-12-31T21:45:12.830717Z"
    }
   },
   "outputs": [],
   "source": [
    "mnist = tf.keras.datasets.mnist\n",
    "(x_train, y_train_cls), (x_test, y_test_cls) = mnist.load_data()\n",
    "#cls is abbreviated from class since it's the original classification from 0, 1, 2, 3, 4, 5, 6, 7, 8, and 9.\n",
    "#later we will convert them into vectors as the actual y_train and y_test"
   ]
  },
  {
   "cell_type": "markdown",
   "metadata": {},
   "source": [
    "<p>We want more than just training and test sets just in case we might have to do some hyperparameter tuning later on so let's create 4 folds of data.</p>"
   ]
  },
  {
   "cell_type": "code",
   "execution_count": 5,
   "metadata": {
    "ExecuteTime": {
     "end_time": "2018-12-31T21:45:13.172681Z",
     "start_time": "2018-12-31T21:45:13.114827Z"
    }
   },
   "outputs": [],
   "source": [
    "x_val1, x_val3, y_val1_cls, y_val3_cls = train_test_split(x_train, \n",
    "                                                          y_train_cls, \n",
    "                                                          test_size=0.5, \n",
    "                                                          random_state=1)"
   ]
  },
  {
   "cell_type": "code",
   "execution_count": 6,
   "metadata": {
    "ExecuteTime": {
     "end_time": "2018-12-31T21:45:13.211584Z",
     "start_time": "2018-12-31T21:45:13.175656Z"
    }
   },
   "outputs": [],
   "source": [
    "x_val1, x_val2, y_val1_cls, y_val2_cls = train_test_split(x_val1, \n",
    "                                                          y_val1_cls, \n",
    "                                                          test_size=0.5, \n",
    "                                                          random_state=1)"
   ]
  },
  {
   "cell_type": "code",
   "execution_count": 7,
   "metadata": {
    "ExecuteTime": {
     "end_time": "2018-12-31T21:45:13.251467Z",
     "start_time": "2018-12-31T21:45:13.213567Z"
    }
   },
   "outputs": [],
   "source": [
    "x_val3, x_val4, y_val3_cls, y_val4_cls = train_test_split(x_val3,\n",
    "                                                          y_val3_cls,\n",
    "                                                          test_size=0.5,\n",
    "                                                          random_state=1)"
   ]
  },
  {
   "cell_type": "code",
   "execution_count": 8,
   "metadata": {
    "ExecuteTime": {
     "end_time": "2018-12-31T21:45:13.258410Z",
     "start_time": "2018-12-31T21:45:13.253419Z"
    }
   },
   "outputs": [
    {
     "name": "stdout",
     "output_type": "stream",
     "text": [
      "Length of first fold of training set: 15000\n",
      "Length of second fold of training set: 15000\n",
      "Length of third fold of training set: 15000\n",
      "Length of fourth fold of training set: 15000\n",
      "Length of test set: 10000\n"
     ]
    }
   ],
   "source": [
    "print(\"Length of first fold of training set: %s\" % len(x_val1))\n",
    "print(\"Length of second fold of training set: %s\" % len(x_val2))\n",
    "print(\"Length of third fold of training set: %s\" % len(x_val3))\n",
    "print(\"Length of fourth fold of training set: %s\" % len(x_val4))\n",
    "print(\"Length of test set: %s\" % len(x_test))"
   ]
  },
  {
   "cell_type": "markdown",
   "metadata": {},
   "source": [
    "<h3>One-Hot Encoding</h3>\n",
    "<p>The goal of this section is to transform our our output into vectors that we can train our input images to predict</p>"
   ]
  },
  {
   "cell_type": "code",
   "execution_count": 9,
   "metadata": {
    "ExecuteTime": {
     "end_time": "2018-12-31T21:45:13.271408Z",
     "start_time": "2018-12-31T21:45:13.260404Z"
    }
   },
   "outputs": [
    {
     "data": {
      "text/plain": [
       "array([5, 0, 4, 1, 9], dtype=uint8)"
      ]
     },
     "execution_count": 9,
     "metadata": {},
     "output_type": "execute_result"
    }
   ],
   "source": [
    "y_train_cls[0:5]"
   ]
  },
  {
   "cell_type": "code",
   "execution_count": 10,
   "metadata": {
    "ExecuteTime": {
     "end_time": "2018-12-31T21:45:13.289327Z",
     "start_time": "2018-12-31T21:45:13.273367Z"
    }
   },
   "outputs": [
    {
     "data": {
      "text/plain": [
       "array([[0., 0., 0., 0., 0., 1., 0., 0., 0., 0.],\n",
       "       [1., 0., 0., 0., 0., 0., 0., 0., 0., 0.],\n",
       "       [0., 0., 0., 0., 1., 0., 0., 0., 0., 0.],\n",
       "       [0., 1., 0., 0., 0., 0., 0., 0., 0., 0.],\n",
       "       [0., 0., 0., 0., 0., 0., 0., 0., 0., 1.]])"
      ]
     },
     "execution_count": 10,
     "metadata": {},
     "output_type": "execute_result"
    }
   ],
   "source": [
    "num_classes = 10\n",
    "y_train = np.zeros((y_train_cls.shape[0], num_classes))\n",
    "y_train[np.arange(len(y_train_cls)), y_train_cls] = 1\n",
    "\n",
    "y_train[0:5,:]"
   ]
  },
  {
   "cell_type": "code",
   "execution_count": 11,
   "metadata": {
    "ExecuteTime": {
     "end_time": "2018-12-31T21:45:13.296313Z",
     "start_time": "2018-12-31T21:45:13.291321Z"
    }
   },
   "outputs": [
    {
     "data": {
      "text/plain": [
       "array([7, 2, 1, 0, 4], dtype=uint8)"
      ]
     },
     "execution_count": 11,
     "metadata": {},
     "output_type": "execute_result"
    }
   ],
   "source": [
    "y_test_cls[0:5]"
   ]
  },
  {
   "cell_type": "code",
   "execution_count": 12,
   "metadata": {
    "ExecuteTime": {
     "end_time": "2018-12-31T21:45:13.312264Z",
     "start_time": "2018-12-31T21:45:13.298300Z"
    }
   },
   "outputs": [
    {
     "data": {
      "text/plain": [
       "array([[0., 0., 0., 0., 0., 0., 0., 1., 0., 0.],\n",
       "       [0., 0., 1., 0., 0., 0., 0., 0., 0., 0.],\n",
       "       [0., 1., 0., 0., 0., 0., 0., 0., 0., 0.],\n",
       "       [1., 0., 0., 0., 0., 0., 0., 0., 0., 0.],\n",
       "       [0., 0., 0., 0., 1., 0., 0., 0., 0., 0.]])"
      ]
     },
     "execution_count": 12,
     "metadata": {},
     "output_type": "execute_result"
    }
   ],
   "source": [
    "y_test = np.zeros((y_test_cls.shape[0], num_classes))\n",
    "y_test[np.arange(len(y_test_cls)), y_test_cls] = 1\n",
    "\n",
    "y_test[0:5,:]"
   ]
  },
  {
   "cell_type": "markdown",
   "metadata": {},
   "source": [
    "<p>Notice that our y_train data are all vectors with the label in the i'th position where i is the number that the corresponding image is of."
   ]
  },
  {
   "cell_type": "markdown",
   "metadata": {},
   "source": [
    "<h3>Data Dimensions</h3>"
   ]
  },
  {
   "cell_type": "code",
   "execution_count": 13,
   "metadata": {
    "ExecuteTime": {
     "end_time": "2018-12-31T21:45:13.322272Z",
     "start_time": "2018-12-31T21:45:13.314258Z"
    }
   },
   "outputs": [],
   "source": [
    "img_size = 28\n",
    "flattened_img_size = img_size ** 2\n",
    "img_shp = (img_size, img_size)"
   ]
  },
  {
   "cell_type": "code",
   "execution_count": 14,
   "metadata": {
    "ExecuteTime": {
     "end_time": "2018-12-31T21:45:13.333214Z",
     "start_time": "2018-12-31T21:45:13.324236Z"
    }
   },
   "outputs": [],
   "source": [
    "def plot_imgs(imgs, cls_true, cls_pred=None):\n",
    "    assert len(imgs) == len(cls_true) == 9\n",
    "    \n",
    "    fig, axes = plt.subplots(3, 3)\n",
    "    fig.subplots_adjust(hspace=0.3, wspace=0.3)\n",
    "    \n",
    "    for i, ax in enumerate(axes.flat):\n",
    "        ax.imshow(imgs[i].reshape(img_shp), cmap='binary')\n",
    "        \n",
    "        if cls_pred is None:\n",
    "            xlabel = \"True: {0}\".format(cls_true[i])\n",
    "        else:\n",
    "            xlabel = \"True {0}, Pred: {1}\".format(cls_true[i], cls_pred[i])\n",
    "        \n",
    "        ax.set_xlabel(xlabel)\n",
    "        \n",
    "        ax.set_xticks([])\n",
    "        ax.set_yticks([])\n",
    "        \n",
    "    plt.show()"
   ]
  },
  {
   "cell_type": "code",
   "execution_count": 15,
   "metadata": {
    "ExecuteTime": {
     "end_time": "2018-12-31T21:45:13.347193Z",
     "start_time": "2018-12-31T21:45:13.335203Z"
    }
   },
   "outputs": [
    {
     "data": {
      "text/plain": [
       "7"
      ]
     },
     "execution_count": 15,
     "metadata": {},
     "output_type": "execute_result"
    }
   ],
   "source": [
    "y_test_cls[0]"
   ]
  },
  {
   "cell_type": "code",
   "execution_count": 16,
   "metadata": {
    "ExecuteTime": {
     "end_time": "2018-12-31T21:45:13.611015Z",
     "start_time": "2018-12-31T21:45:13.348168Z"
    }
   },
   "outputs": [
    {
     "data": {
      "image/png": "[encoded data removed]",
      "text/plain": [
       "<Figure size 432x288 with 9 Axes>"
      ]
     },
     "metadata": {},
     "output_type": "display_data"
    }
   ],
   "source": [
    "images = x_test[0:9]\n",
    "\n",
    "cls_true = y_test_cls[0:9]\n",
    "\n",
    "plot_imgs(imgs=images, cls_true=cls_true)"
   ]
  },
  {
   "cell_type": "markdown",
   "metadata": {},
   "source": [
    "<h3>Model 1: Linear Classifier</h3>"
   ]
  },
  {
   "cell_type": "code",
   "execution_count": 17,
   "metadata": {
    "ExecuteTime": {
     "end_time": "2018-12-31T21:45:13.639938Z",
     "start_time": "2018-12-31T21:45:13.613002Z"
    }
   },
   "outputs": [],
   "source": [
    "x = tf.placeholder(tf.float32, [None, flattened_img_size]) \n",
    "#input layer takes in flattened 28 by 28 images to train"
   ]
  },
  {
   "cell_type": "code",
   "execution_count": 18,
   "metadata": {
    "ExecuteTime": {
     "end_time": "2018-12-31T21:45:13.645922Z",
     "start_time": "2018-12-31T21:45:13.641932Z"
    }
   },
   "outputs": [],
   "source": [
    "y_true = tf.placeholder(tf.float32, [None, num_classes]) \n",
    "#output layer (vectors that have a 1 in the i'th position based on the prediction)"
   ]
  },
  {
   "cell_type": "code",
   "execution_count": 19,
   "metadata": {
    "ExecuteTime": {
     "end_time": "2018-12-31T21:45:13.657892Z",
     "start_time": "2018-12-31T21:45:13.647881Z"
    }
   },
   "outputs": [],
   "source": [
    "y_true_cls = tf.placeholder(tf.int64, [None])\n",
    "#Actual number being predicted [0,9]"
   ]
  },
  {
   "cell_type": "code",
   "execution_count": 20,
   "metadata": {
    "ExecuteTime": {
     "end_time": "2018-12-31T21:45:13.681790Z",
     "start_time": "2018-12-31T21:45:13.668840Z"
    }
   },
   "outputs": [],
   "source": [
    "weights = tf.Variable(tf.zeros([flattened_img_size, num_classes]))"
   ]
  },
  {
   "cell_type": "code",
   "execution_count": 21,
   "metadata": {
    "ExecuteTime": {
     "end_time": "2018-12-31T21:45:13.698745Z",
     "start_time": "2018-12-31T21:45:13.687775Z"
    }
   },
   "outputs": [],
   "source": [
    "biases = tf.Variable(tf.zeros([num_classes]))"
   ]
  },
  {
   "cell_type": "markdown",
   "metadata": {},
   "source": [
    "<p>Before we build the complex convolutional neural network model we prototype a simpler linear model just for the sake of it. This linear function is gonna be built with y_hat = weights * x + biases, which is the linear form everyone is familiar with y = mx + b. The only difference is that we're going to be working in a much larger dimension.</p>"
   ]
  },
  {
   "cell_type": "code",
   "execution_count": 22,
   "metadata": {
    "ExecuteTime": {
     "end_time": "2018-12-31T21:45:13.707720Z",
     "start_time": "2018-12-31T21:45:13.700740Z"
    }
   },
   "outputs": [],
   "source": [
    "logits = tf.matmul(x, weights) + biases"
   ]
  },
  {
   "cell_type": "markdown",
   "metadata": {},
   "source": [
    "<p>Logits is the result of the calculation that is made from the linear model and gives a estimate of how likely each image is to be each value.</p>"
   ]
  },
  {
   "cell_type": "code",
   "execution_count": 23,
   "metadata": {
    "ExecuteTime": {
     "end_time": "2018-12-31T21:45:13.718690Z",
     "start_time": "2018-12-31T21:45:13.709725Z"
    }
   },
   "outputs": [],
   "source": [
    "y_pred = tf.nn.softmax(logits)"
   ]
  },
  {
   "cell_type": "markdown",
   "metadata": {},
   "source": [
    "<p>The softmax function then normalizes the predictions of each digit</p>"
   ]
  },
  {
   "cell_type": "code",
   "execution_count": 24,
   "metadata": {
    "ExecuteTime": {
     "end_time": "2018-12-31T21:45:13.730697Z",
     "start_time": "2018-12-31T21:45:13.719688Z"
    }
   },
   "outputs": [],
   "source": [
    "y_pred_cls = tf.argmax(y_pred, axis=1)"
   ]
  },
  {
   "cell_type": "markdown",
   "metadata": {},
   "source": [
    "<h4>Tuning the weights and biases</h4>"
   ]
  },
  {
   "cell_type": "markdown",
   "metadata": {},
   "source": [
    "<p>Cross entropy is a cost function for classifiers that measures the models performance. We then take the performance and make it a single scalar and send it forward to the optimizer in order to determine how the network wants to change its weight parameters.</p>"
   ]
  },
  {
   "cell_type": "code",
   "execution_count": 25,
   "metadata": {
    "ExecuteTime": {
     "end_time": "2018-12-31T21:45:13.767588Z",
     "start_time": "2018-12-31T21:45:13.732655Z"
    }
   },
   "outputs": [],
   "source": [
    "cross_entropy = tf.nn.softmax_cross_entropy_with_logits_v2(logits=logits, labels=y_true)\n",
    "cost = tf.reduce_mean(cross_entropy)"
   ]
  },
  {
   "cell_type": "markdown",
   "metadata": {},
   "source": [
    "<h3>Optimization</h3>\n",
    "<p>We use the most basic optimizer in tensorflow to train our weights</p>"
   ]
  },
  {
   "cell_type": "code",
   "execution_count": 26,
   "metadata": {
    "ExecuteTime": {
     "end_time": "2018-12-31T21:45:13.822465Z",
     "start_time": "2018-12-31T21:45:13.768594Z"
    }
   },
   "outputs": [],
   "source": [
    "optimizer = tf.train.GradientDescentOptimizer(learning_rate=0.5).minimize(cost) "
   ]
  },
  {
   "cell_type": "markdown",
   "metadata": {},
   "source": [
    "<h2>Evaluating performance</h2>\n",
    "<p>Determines if the prediction is the same as the ground truth value</p>"
   ]
  },
  {
   "cell_type": "code",
   "execution_count": 27,
   "metadata": {
    "ExecuteTime": {
     "end_time": "2018-12-31T21:45:13.830397Z",
     "start_time": "2018-12-31T21:45:13.823411Z"
    }
   },
   "outputs": [],
   "source": [
    "correct_prediction =tf.equal(y_true_cls, y_pred_cls)"
   ]
  },
  {
   "cell_type": "markdown",
   "metadata": {},
   "source": [
    "<p>Turns the booelan values of which predictions were right and wrong and makes it into 0 for false and 1 for true to determine the accuracy of our predictions</p>"
   ]
  },
  {
   "cell_type": "code",
   "execution_count": 28,
   "metadata": {
    "ExecuteTime": {
     "end_time": "2018-12-31T21:45:13.845358Z",
     "start_time": "2018-12-31T21:45:13.832388Z"
    }
   },
   "outputs": [],
   "source": [
    "accuracy = tf.reduce_mean(tf.cast(correct_prediction, tf.float32))"
   ]
  },
  {
   "cell_type": "markdown",
   "metadata": {},
   "source": [
    "<h2>Training the model</h2>"
   ]
  },
  {
   "cell_type": "code",
   "execution_count": 29,
   "metadata": {
    "ExecuteTime": {
     "end_time": "2018-12-31T21:45:17.107867Z",
     "start_time": "2018-12-31T21:45:13.847348Z"
    }
   },
   "outputs": [],
   "source": [
    "sess = tf.Session(config=tf.ConfigProto(log_device_placement=True))\n",
    "sess.run(tf.global_variables_initializer())"
   ]
  },
  {
   "cell_type": "code",
   "execution_count": 30,
   "metadata": {
    "ExecuteTime": {
     "end_time": "2018-12-31T21:45:17.113638Z",
     "start_time": "2018-12-31T21:45:17.109649Z"
    }
   },
   "outputs": [],
   "source": [
    "batch_size = 50"
   ]
  },
  {
   "cell_type": "code",
   "execution_count": 31,
   "metadata": {
    "ExecuteTime": {
     "end_time": "2018-12-31T21:45:17.128598Z",
     "start_time": "2018-12-31T21:45:17.116632Z"
    }
   },
   "outputs": [],
   "source": [
    "def optimize(num_iterations):\n",
    "    for i in range(num_iterations):\n",
    "        x_batch, y_true_batch, _ = mnist.load_data().random_batch(batch_size=batch_size)\n",
    "        feed_dict_train = {\n",
    "            x: x_batch,\n",
    "            y_true: y_true_batch\n",
    "        }\n",
    "        sess.run(optimizer, feed_dict=feed_dict_train)"
   ]
  },
  {
   "cell_type": "markdown",
   "metadata": {},
   "source": [
    "<p>Functions to help show our models perforamnce</p>"
   ]
  },
  {
   "cell_type": "code",
   "execution_count": 32,
   "metadata": {
    "ExecuteTime": {
     "end_time": "2018-12-31T21:45:17.139713Z",
     "start_time": "2018-12-31T21:45:17.130594Z"
    }
   },
   "outputs": [],
   "source": [
    "x_test = np.reshape(x_test, (10000, 784))"
   ]
  },
  {
   "cell_type": "code",
   "execution_count": 33,
   "metadata": {
    "ExecuteTime": {
     "end_time": "2018-12-31T21:45:17.149551Z",
     "start_time": "2018-12-31T21:45:17.141563Z"
    }
   },
   "outputs": [],
   "source": [
    "feed_dict_test = {\n",
    "    x: x_test, # shape is (10000, 28, 28)\n",
    "    y_true: y_test, # shape is (10000, 10)\n",
    "    y_true_cls: y_train_cls\n",
    "}\n"
   ]
  },
  {
   "cell_type": "code",
   "execution_count": 34,
   "metadata": {
    "ExecuteTime": {
     "end_time": "2018-12-31T21:45:17.160517Z",
     "start_time": "2018-12-31T21:45:17.151571Z"
    }
   },
   "outputs": [],
   "source": [
    "def print_accuracy():\n",
    "    acc = sess.run(accuracy, feed_dict=feed_dict_test)\n",
    "    print(\"Accuracy on tst-set: %f%\" % acc)"
   ]
  },
  {
   "cell_type": "code",
   "execution_count": 35,
   "metadata": {
    "ExecuteTime": {
     "end_time": "2018-12-31T21:45:17.172501Z",
     "start_time": "2018-12-31T21:45:17.161509Z"
    }
   },
   "outputs": [],
   "source": [
    "def print_confusion_matrix():\n",
    "    cls_true = y_test_cls\n",
    "    cls_pred = sess.run(y_test, feed_dict=feed_dict_test)\n",
    "    conmat = confusion_matrix(y_true=cls_true, y_pred=cls_pred)\n",
    "    print(cm)\n",
    "    plt.imshow(cm, interpolation='nearest', cmap=plt.conmat.Blues)\n",
    "    plt.tight_layout()\n",
    "    plt.colorbar()\n",
    "    tick_marks = np.arange(num_classes)\n",
    "    plt.xtickets(tick_marks, range(num_classes))\n",
    "    plt.yticks(tick_marks, range(num_clases))\n",
    "    plt.xlabel('Predicted')\n",
    "    plt.ylabel(\"True\")\n",
    "    plt.show()"
   ]
  },
  {
   "cell_type": "code",
   "execution_count": 36,
   "metadata": {
    "ExecuteTime": {
     "end_time": "2018-12-31T21:45:17.183451Z",
     "start_time": "2018-12-31T21:45:17.174476Z"
    }
   },
   "outputs": [],
   "source": [
    "def plot_example_errors():\n",
    "    correct, cls_pred = sess.run([correct_prediction, y_pred_cls],\n",
    "                                    feed_dict=feed_dict_test)\n",
    "    incorrect = (correct == False)\n",
    "    images = data.x_test[incorrect]\n",
    "    cls_pred = cls_pred[incorrect]\n",
    "    cls_true = data.y_test_cls[incorrect]\n",
    "    plot_images(images=images[0:9],\n",
    "                cls_true=cls_true[0:9],\n",
    "                cls_pred=cls_pred[0:9])"
   ]
  },
  {
   "cell_type": "code",
   "execution_count": 37,
   "metadata": {
    "ExecuteTime": {
     "end_time": "2018-12-31T21:45:17.193441Z",
     "start_time": "2018-12-31T21:45:17.184454Z"
    }
   },
   "outputs": [],
   "source": [
    "def plot_weights():\n",
    "    w = sess.run(weights)\n",
    "\n",
    "    w_min = np.min(w)\n",
    "    w_max = np.max(w)\n",
    "\n",
    "    fig, axes = plt.subplots(3, 4)\n",
    "    fig.subplots_adjust(hspace=0.3, wspace=0.3)\n",
    "\n",
    "    for i, ax in enumerate(axes.flat):\n",
    "\n",
    "        if i<10:\n",
    "\n",
    "            image = w[:, i].reshape(img_shape)\n",
    "\n",
    "            ax.set_xlabel(\"Weights: {0}\".format(i))\n",
    "\n",
    "            ax.imshow(image, vmin=w_min, vmax=w_max, cmap='seismic')\n",
    "\n",
    "        ax.set_xticks([])\n",
    "        ax.set_yticks([])\n",
    "\n",
    "    plt.show()"
   ]
  },
  {
   "cell_type": "code",
   "execution_count": 38,
   "metadata": {
    "ExecuteTime": {
     "end_time": "2018-12-31T21:45:17.530575Z",
     "start_time": "2018-12-31T21:45:17.194451Z"
    }
   },
   "outputs": [
    {
     "ename": "InvalidArgumentError",
     "evalue": "Incompatible shapes: [60000] vs. [10000]\n\t [[node Equal (defined at <ipython-input-27-268738d692fc>:1)  = Equal[T=DT_INT64, _device=\"/job:localhost/replica:0/task:0/device:GPU:0\"](_arg_Placeholder_2_0_2/_3, ArgMax)]]\n\nCaused by op 'Equal', defined at:\n  File \"C:\\Users\\Bryan\\Anaconda3\\envs\\MNIST\\lib\\runpy.py\", line 193, in _run_module_as_main\n    \"__main__\", mod_spec)\n  File \"C:\\Users\\Bryan\\Anaconda3\\envs\\MNIST\\lib\\runpy.py\", line 85, in _run_code\n    exec(code, run_globals)\n  File \"C:\\Users\\Bryan\\Anaconda3\\envs\\MNIST\\lib\\site-packages\\ipykernel_launcher.py\", line 16, in <module>\n    app.launch_new_instance()\n  File \"C:\\Users\\Bryan\\Anaconda3\\envs\\MNIST\\lib\\site-packages\\traitlets\\config\\application.py\", line 658, in launch_instance\n    app.start()\n  File \"C:\\Users\\Bryan\\Anaconda3\\envs\\MNIST\\lib\\site-packages\\ipykernel\\kernelapp.py\", line 505, in start\n    self.io_loop.start()\n  File \"C:\\Users\\Bryan\\Anaconda3\\envs\\MNIST\\lib\\site-packages\\tornado\\platform\\asyncio.py\", line 132, in start\n    self.asyncio_loop.run_forever()\n  File \"C:\\Users\\Bryan\\Anaconda3\\envs\\MNIST\\lib\\asyncio\\base_events.py\", line 427, in run_forever\n    self._run_once()\n  File \"C:\\Users\\Bryan\\Anaconda3\\envs\\MNIST\\lib\\asyncio\\base_events.py\", line 1440, in _run_once\n    handle._run()\n  File \"C:\\Users\\Bryan\\Anaconda3\\envs\\MNIST\\lib\\asyncio\\events.py\", line 145, in _run\n    self._callback(*self._args)\n  File \"C:\\Users\\Bryan\\Anaconda3\\envs\\MNIST\\lib\\site-packages\\tornado\\ioloop.py\", line 758, in _run_callback\n    ret = callback()\n  File \"C:\\Users\\Bryan\\Anaconda3\\envs\\MNIST\\lib\\site-packages\\tornado\\stack_context.py\", line 300, in null_wrapper\n    return fn(*args, **kwargs)\n  File \"C:\\Users\\Bryan\\Anaconda3\\envs\\MNIST\\lib\\site-packages\\tornado\\gen.py\", line 1233, in inner\n    self.run()\n  File \"C:\\Users\\Bryan\\Anaconda3\\envs\\MNIST\\lib\\site-packages\\tornado\\gen.py\", line 1147, in run\n    yielded = self.gen.send(value)\n  File \"C:\\Users\\Bryan\\Anaconda3\\envs\\MNIST\\lib\\site-packages\\ipykernel\\kernelbase.py\", line 370, in dispatch_queue\n    yield self.process_one()\n  File \"C:\\Users\\Bryan\\Anaconda3\\envs\\MNIST\\lib\\site-packages\\tornado\\gen.py\", line 346, in wrapper\n    runner = Runner(result, future, yielded)\n  File \"C:\\Users\\Bryan\\Anaconda3\\envs\\MNIST\\lib\\site-packages\\tornado\\gen.py\", line 1080, in __init__\n    self.run()\n  File \"C:\\Users\\Bryan\\Anaconda3\\envs\\MNIST\\lib\\site-packages\\tornado\\gen.py\", line 1147, in run\n    yielded = self.gen.send(value)\n  File \"C:\\Users\\Bryan\\Anaconda3\\envs\\MNIST\\lib\\site-packages\\ipykernel\\kernelbase.py\", line 357, in process_one\n    yield gen.maybe_future(dispatch(*args))\n  File \"C:\\Users\\Bryan\\Anaconda3\\envs\\MNIST\\lib\\site-packages\\tornado\\gen.py\", line 326, in wrapper\n    yielded = next(result)\n  File \"C:\\Users\\Bryan\\Anaconda3\\envs\\MNIST\\lib\\site-packages\\ipykernel\\kernelbase.py\", line 267, in dispatch_shell\n    yield gen.maybe_future(handler(stream, idents, msg))\n  File \"C:\\Users\\Bryan\\Anaconda3\\envs\\MNIST\\lib\\site-packages\\tornado\\gen.py\", line 326, in wrapper\n    yielded = next(result)\n  File \"C:\\Users\\Bryan\\Anaconda3\\envs\\MNIST\\lib\\site-packages\\ipykernel\\kernelbase.py\", line 534, in execute_request\n    user_expressions, allow_stdin,\n  File \"C:\\Users\\Bryan\\Anaconda3\\envs\\MNIST\\lib\\site-packages\\tornado\\gen.py\", line 326, in wrapper\n    yielded = next(result)\n  File \"C:\\Users\\Bryan\\Anaconda3\\envs\\MNIST\\lib\\site-packages\\ipykernel\\ipkernel.py\", line 294, in do_execute\n    res = shell.run_cell(code, store_history=store_history, silent=silent)\n  File \"C:\\Users\\Bryan\\Anaconda3\\envs\\MNIST\\lib\\site-packages\\ipykernel\\zmqshell.py\", line 536, in run_cell\n    return super(ZMQInteractiveShell, self).run_cell(*args, **kwargs)\n  File \"C:\\Users\\Bryan\\Anaconda3\\envs\\MNIST\\lib\\site-packages\\IPython\\core\\interactiveshell.py\", line 2819, in run_cell\n    raw_cell, store_history, silent, shell_futures)\n  File \"C:\\Users\\Bryan\\Anaconda3\\envs\\MNIST\\lib\\site-packages\\IPython\\core\\interactiveshell.py\", line 2845, in _run_cell\n    return runner(coro)\n  File \"C:\\Users\\Bryan\\Anaconda3\\envs\\MNIST\\lib\\site-packages\\IPython\\core\\async_helpers.py\", line 67, in _pseudo_sync_runner\n    coro.send(None)\n  File \"C:\\Users\\Bryan\\Anaconda3\\envs\\MNIST\\lib\\site-packages\\IPython\\core\\interactiveshell.py\", line 3020, in run_cell_async\n    interactivity=interactivity, compiler=compiler, result=result)\n  File \"C:\\Users\\Bryan\\Anaconda3\\envs\\MNIST\\lib\\site-packages\\IPython\\core\\interactiveshell.py\", line 3185, in run_ast_nodes\n    if (yield from self.run_code(code, result)):\n  File \"C:\\Users\\Bryan\\Anaconda3\\envs\\MNIST\\lib\\site-packages\\IPython\\core\\interactiveshell.py\", line 3267, in run_code\n    exec(code_obj, self.user_global_ns, self.user_ns)\n  File \"<ipython-input-27-268738d692fc>\", line 1, in <module>\n    correct_prediction =tf.equal(y_true_cls, y_pred_cls)\n  File \"C:\\Users\\Bryan\\Anaconda3\\envs\\MNIST\\lib\\site-packages\\tensorflow\\python\\ops\\gen_math_ops.py\", line 2734, in equal\n    \"Equal\", x=x, y=y, name=name)\n  File \"C:\\Users\\Bryan\\Anaconda3\\envs\\MNIST\\lib\\site-packages\\tensorflow\\python\\framework\\op_def_library.py\", line 787, in _apply_op_helper\n    op_def=op_def)\n  File \"C:\\Users\\Bryan\\Anaconda3\\envs\\MNIST\\lib\\site-packages\\tensorflow\\python\\util\\deprecation.py\", line 488, in new_func\n    return func(*args, **kwargs)\n  File \"C:\\Users\\Bryan\\Anaconda3\\envs\\MNIST\\lib\\site-packages\\tensorflow\\python\\framework\\ops.py\", line 3274, in create_op\n    op_def=op_def)\n  File \"C:\\Users\\Bryan\\Anaconda3\\envs\\MNIST\\lib\\site-packages\\tensorflow\\python\\framework\\ops.py\", line 1770, in __init__\n    self._traceback = tf_stack.extract_stack()\n\nInvalidArgumentError (see above for traceback): Incompatible shapes: [60000] vs. [10000]\n\t [[node Equal (defined at <ipython-input-27-268738d692fc>:1)  = Equal[T=DT_INT64, _device=\"/job:localhost/replica:0/task:0/device:GPU:0\"](_arg_Placeholder_2_0_2/_3, ArgMax)]]\n",
     "output_type": "error",
     "traceback": [
      "\u001b[1;31m---------------------------------------------------------------------------\u001b[0m",
      "\u001b[1;31mInvalidArgumentError\u001b[0m                      Traceback (most recent call last)",
      "\u001b[1;32m~\\Anaconda3\\envs\\MNIST\\lib\\site-packages\\tensorflow\\python\\client\\session.py\u001b[0m in \u001b[0;36m_do_call\u001b[1;34m(self, fn, *args)\u001b[0m\n\u001b[0;32m   1333\u001b[0m     \u001b[1;32mtry\u001b[0m\u001b[1;33m:\u001b[0m\u001b[1;33m\u001b[0m\u001b[1;33m\u001b[0m\u001b[0m\n\u001b[1;32m-> 1334\u001b[1;33m       \u001b[1;32mreturn\u001b[0m \u001b[0mfn\u001b[0m\u001b[1;33m(\u001b[0m\u001b[1;33m*\u001b[0m\u001b[0margs\u001b[0m\u001b[1;33m)\u001b[0m\u001b[1;33m\u001b[0m\u001b[1;33m\u001b[0m\u001b[0m\n\u001b[0m\u001b[0;32m   1335\u001b[0m     \u001b[1;32mexcept\u001b[0m \u001b[0merrors\u001b[0m\u001b[1;33m.\u001b[0m\u001b[0mOpError\u001b[0m \u001b[1;32mas\u001b[0m \u001b[0me\u001b[0m\u001b[1;33m:\u001b[0m\u001b[1;33m\u001b[0m\u001b[1;33m\u001b[0m\u001b[0m\n",
      "\u001b[1;32m~\\Anaconda3\\envs\\MNIST\\lib\\site-packages\\tensorflow\\python\\client\\session.py\u001b[0m in \u001b[0;36m_run_fn\u001b[1;34m(feed_dict, fetch_list, target_list, options, run_metadata)\u001b[0m\n\u001b[0;32m   1318\u001b[0m       return self._call_tf_sessionrun(\n\u001b[1;32m-> 1319\u001b[1;33m           options, feed_dict, fetch_list, target_list, run_metadata)\n\u001b[0m\u001b[0;32m   1320\u001b[0m \u001b[1;33m\u001b[0m\u001b[0m\n",
      "\u001b[1;32m~\\Anaconda3\\envs\\MNIST\\lib\\site-packages\\tensorflow\\python\\client\\session.py\u001b[0m in \u001b[0;36m_call_tf_sessionrun\u001b[1;34m(self, options, feed_dict, fetch_list, target_list, run_metadata)\u001b[0m\n\u001b[0;32m   1406\u001b[0m         \u001b[0mself\u001b[0m\u001b[1;33m.\u001b[0m\u001b[0m_session\u001b[0m\u001b[1;33m,\u001b[0m \u001b[0moptions\u001b[0m\u001b[1;33m,\u001b[0m \u001b[0mfeed_dict\u001b[0m\u001b[1;33m,\u001b[0m \u001b[0mfetch_list\u001b[0m\u001b[1;33m,\u001b[0m \u001b[0mtarget_list\u001b[0m\u001b[1;33m,\u001b[0m\u001b[1;33m\u001b[0m\u001b[1;33m\u001b[0m\u001b[0m\n\u001b[1;32m-> 1407\u001b[1;33m         run_metadata)\n\u001b[0m\u001b[0;32m   1408\u001b[0m \u001b[1;33m\u001b[0m\u001b[0m\n",
      "\u001b[1;31mInvalidArgumentError\u001b[0m: Incompatible shapes: [60000] vs. [10000]\n\t [[{{node Equal}} = Equal[T=DT_INT64, _device=\"/job:localhost/replica:0/task:0/device:GPU:0\"](_arg_Placeholder_2_0_2/_3, ArgMax)]]",
      "\nDuring handling of the above exception, another exception occurred:\n",
      "\u001b[1;31mInvalidArgumentError\u001b[0m                      Traceback (most recent call last)",
      "\u001b[1;32m<ipython-input-38-78f4684666ce>\u001b[0m in \u001b[0;36m<module>\u001b[1;34m\u001b[0m\n\u001b[1;32m----> 1\u001b[1;33m \u001b[0mprint_accuracy\u001b[0m\u001b[1;33m(\u001b[0m\u001b[1;33m)\u001b[0m\u001b[1;33m\u001b[0m\u001b[1;33m\u001b[0m\u001b[0m\n\u001b[0m",
      "\u001b[1;32m<ipython-input-34-a5d445e4947d>\u001b[0m in \u001b[0;36mprint_accuracy\u001b[1;34m()\u001b[0m\n\u001b[0;32m      1\u001b[0m \u001b[1;32mdef\u001b[0m \u001b[0mprint_accuracy\u001b[0m\u001b[1;33m(\u001b[0m\u001b[1;33m)\u001b[0m\u001b[1;33m:\u001b[0m\u001b[1;33m\u001b[0m\u001b[1;33m\u001b[0m\u001b[0m\n\u001b[1;32m----> 2\u001b[1;33m     \u001b[0macc\u001b[0m \u001b[1;33m=\u001b[0m \u001b[0msess\u001b[0m\u001b[1;33m.\u001b[0m\u001b[0mrun\u001b[0m\u001b[1;33m(\u001b[0m\u001b[0maccuracy\u001b[0m\u001b[1;33m,\u001b[0m \u001b[0mfeed_dict\u001b[0m\u001b[1;33m=\u001b[0m\u001b[0mfeed_dict_test\u001b[0m\u001b[1;33m)\u001b[0m\u001b[1;33m\u001b[0m\u001b[1;33m\u001b[0m\u001b[0m\n\u001b[0m\u001b[0;32m      3\u001b[0m     \u001b[0mprint\u001b[0m\u001b[1;33m(\u001b[0m\u001b[1;34m\"Accuracy on tst-set: %f%\"\u001b[0m \u001b[1;33m%\u001b[0m \u001b[0macc\u001b[0m\u001b[1;33m)\u001b[0m\u001b[1;33m\u001b[0m\u001b[1;33m\u001b[0m\u001b[0m\n",
      "\u001b[1;32m~\\Anaconda3\\envs\\MNIST\\lib\\site-packages\\tensorflow\\python\\client\\session.py\u001b[0m in \u001b[0;36mrun\u001b[1;34m(self, fetches, feed_dict, options, run_metadata)\u001b[0m\n\u001b[0;32m    927\u001b[0m     \u001b[1;32mtry\u001b[0m\u001b[1;33m:\u001b[0m\u001b[1;33m\u001b[0m\u001b[1;33m\u001b[0m\u001b[0m\n\u001b[0;32m    928\u001b[0m       result = self._run(None, fetches, feed_dict, options_ptr,\n\u001b[1;32m--> 929\u001b[1;33m                          run_metadata_ptr)\n\u001b[0m\u001b[0;32m    930\u001b[0m       \u001b[1;32mif\u001b[0m \u001b[0mrun_metadata\u001b[0m\u001b[1;33m:\u001b[0m\u001b[1;33m\u001b[0m\u001b[1;33m\u001b[0m\u001b[0m\n\u001b[0;32m    931\u001b[0m         \u001b[0mproto_data\u001b[0m \u001b[1;33m=\u001b[0m \u001b[0mtf_session\u001b[0m\u001b[1;33m.\u001b[0m\u001b[0mTF_GetBuffer\u001b[0m\u001b[1;33m(\u001b[0m\u001b[0mrun_metadata_ptr\u001b[0m\u001b[1;33m)\u001b[0m\u001b[1;33m\u001b[0m\u001b[1;33m\u001b[0m\u001b[0m\n",
      "\u001b[1;32m~\\Anaconda3\\envs\\MNIST\\lib\\site-packages\\tensorflow\\python\\client\\session.py\u001b[0m in \u001b[0;36m_run\u001b[1;34m(self, handle, fetches, feed_dict, options, run_metadata)\u001b[0m\n\u001b[0;32m   1150\u001b[0m     \u001b[1;32mif\u001b[0m \u001b[0mfinal_fetches\u001b[0m \u001b[1;32mor\u001b[0m \u001b[0mfinal_targets\u001b[0m \u001b[1;32mor\u001b[0m \u001b[1;33m(\u001b[0m\u001b[0mhandle\u001b[0m \u001b[1;32mand\u001b[0m \u001b[0mfeed_dict_tensor\u001b[0m\u001b[1;33m)\u001b[0m\u001b[1;33m:\u001b[0m\u001b[1;33m\u001b[0m\u001b[1;33m\u001b[0m\u001b[0m\n\u001b[0;32m   1151\u001b[0m       results = self._do_run(handle, final_targets, final_fetches,\n\u001b[1;32m-> 1152\u001b[1;33m                              feed_dict_tensor, options, run_metadata)\n\u001b[0m\u001b[0;32m   1153\u001b[0m     \u001b[1;32melse\u001b[0m\u001b[1;33m:\u001b[0m\u001b[1;33m\u001b[0m\u001b[1;33m\u001b[0m\u001b[0m\n\u001b[0;32m   1154\u001b[0m       \u001b[0mresults\u001b[0m \u001b[1;33m=\u001b[0m \u001b[1;33m[\u001b[0m\u001b[1;33m]\u001b[0m\u001b[1;33m\u001b[0m\u001b[1;33m\u001b[0m\u001b[0m\n",
      "\u001b[1;32m~\\Anaconda3\\envs\\MNIST\\lib\\site-packages\\tensorflow\\python\\client\\session.py\u001b[0m in \u001b[0;36m_do_run\u001b[1;34m(self, handle, target_list, fetch_list, feed_dict, options, run_metadata)\u001b[0m\n\u001b[0;32m   1326\u001b[0m     \u001b[1;32mif\u001b[0m \u001b[0mhandle\u001b[0m \u001b[1;32mis\u001b[0m \u001b[1;32mNone\u001b[0m\u001b[1;33m:\u001b[0m\u001b[1;33m\u001b[0m\u001b[1;33m\u001b[0m\u001b[0m\n\u001b[0;32m   1327\u001b[0m       return self._do_call(_run_fn, feeds, fetches, targets, options,\n\u001b[1;32m-> 1328\u001b[1;33m                            run_metadata)\n\u001b[0m\u001b[0;32m   1329\u001b[0m     \u001b[1;32melse\u001b[0m\u001b[1;33m:\u001b[0m\u001b[1;33m\u001b[0m\u001b[1;33m\u001b[0m\u001b[0m\n\u001b[0;32m   1330\u001b[0m       \u001b[1;32mreturn\u001b[0m \u001b[0mself\u001b[0m\u001b[1;33m.\u001b[0m\u001b[0m_do_call\u001b[0m\u001b[1;33m(\u001b[0m\u001b[0m_prun_fn\u001b[0m\u001b[1;33m,\u001b[0m \u001b[0mhandle\u001b[0m\u001b[1;33m,\u001b[0m \u001b[0mfeeds\u001b[0m\u001b[1;33m,\u001b[0m \u001b[0mfetches\u001b[0m\u001b[1;33m)\u001b[0m\u001b[1;33m\u001b[0m\u001b[1;33m\u001b[0m\u001b[0m\n",
      "\u001b[1;32m~\\Anaconda3\\envs\\MNIST\\lib\\site-packages\\tensorflow\\python\\client\\session.py\u001b[0m in \u001b[0;36m_do_call\u001b[1;34m(self, fn, *args)\u001b[0m\n\u001b[0;32m   1346\u001b[0m           \u001b[1;32mpass\u001b[0m\u001b[1;33m\u001b[0m\u001b[1;33m\u001b[0m\u001b[0m\n\u001b[0;32m   1347\u001b[0m       \u001b[0mmessage\u001b[0m \u001b[1;33m=\u001b[0m \u001b[0merror_interpolation\u001b[0m\u001b[1;33m.\u001b[0m\u001b[0minterpolate\u001b[0m\u001b[1;33m(\u001b[0m\u001b[0mmessage\u001b[0m\u001b[1;33m,\u001b[0m \u001b[0mself\u001b[0m\u001b[1;33m.\u001b[0m\u001b[0m_graph\u001b[0m\u001b[1;33m)\u001b[0m\u001b[1;33m\u001b[0m\u001b[1;33m\u001b[0m\u001b[0m\n\u001b[1;32m-> 1348\u001b[1;33m       \u001b[1;32mraise\u001b[0m \u001b[0mtype\u001b[0m\u001b[1;33m(\u001b[0m\u001b[0me\u001b[0m\u001b[1;33m)\u001b[0m\u001b[1;33m(\u001b[0m\u001b[0mnode_def\u001b[0m\u001b[1;33m,\u001b[0m \u001b[0mop\u001b[0m\u001b[1;33m,\u001b[0m \u001b[0mmessage\u001b[0m\u001b[1;33m)\u001b[0m\u001b[1;33m\u001b[0m\u001b[1;33m\u001b[0m\u001b[0m\n\u001b[0m\u001b[0;32m   1349\u001b[0m \u001b[1;33m\u001b[0m\u001b[0m\n\u001b[0;32m   1350\u001b[0m   \u001b[1;32mdef\u001b[0m \u001b[0m_extend_graph\u001b[0m\u001b[1;33m(\u001b[0m\u001b[0mself\u001b[0m\u001b[1;33m)\u001b[0m\u001b[1;33m:\u001b[0m\u001b[1;33m\u001b[0m\u001b[1;33m\u001b[0m\u001b[0m\n",
      "\u001b[1;31mInvalidArgumentError\u001b[0m: Incompatible shapes: [60000] vs. [10000]\n\t [[node Equal (defined at <ipython-input-27-268738d692fc>:1)  = Equal[T=DT_INT64, _device=\"/job:localhost/replica:0/task:0/device:GPU:0\"](_arg_Placeholder_2_0_2/_3, ArgMax)]]\n\nCaused by op 'Equal', defined at:\n  File \"C:\\Users\\Bryan\\Anaconda3\\envs\\MNIST\\lib\\runpy.py\", line 193, in _run_module_as_main\n    \"__main__\", mod_spec)\n  File \"C:\\Users\\Bryan\\Anaconda3\\envs\\MNIST\\lib\\runpy.py\", line 85, in _run_code\n    exec(code, run_globals)\n  File \"C:\\Users\\Bryan\\Anaconda3\\envs\\MNIST\\lib\\site-packages\\ipykernel_launcher.py\", line 16, in <module>\n    app.launch_new_instance()\n  File \"C:\\Users\\Bryan\\Anaconda3\\envs\\MNIST\\lib\\site-packages\\traitlets\\config\\application.py\", line 658, in launch_instance\n    app.start()\n  File \"C:\\Users\\Bryan\\Anaconda3\\envs\\MNIST\\lib\\site-packages\\ipykernel\\kernelapp.py\", line 505, in start\n    self.io_loop.start()\n  File \"C:\\Users\\Bryan\\Anaconda3\\envs\\MNIST\\lib\\site-packages\\tornado\\platform\\asyncio.py\", line 132, in start\n    self.asyncio_loop.run_forever()\n  File \"C:\\Users\\Bryan\\Anaconda3\\envs\\MNIST\\lib\\asyncio\\base_events.py\", line 427, in run_forever\n    self._run_once()\n  File \"C:\\Users\\Bryan\\Anaconda3\\envs\\MNIST\\lib\\asyncio\\base_events.py\", line 1440, in _run_once\n    handle._run()\n  File \"C:\\Users\\Bryan\\Anaconda3\\envs\\MNIST\\lib\\asyncio\\events.py\", line 145, in _run\n    self._callback(*self._args)\n  File \"C:\\Users\\Bryan\\Anaconda3\\envs\\MNIST\\lib\\site-packages\\tornado\\ioloop.py\", line 758, in _run_callback\n    ret = callback()\n  File \"C:\\Users\\Bryan\\Anaconda3\\envs\\MNIST\\lib\\site-packages\\tornado\\stack_context.py\", line 300, in null_wrapper\n    return fn(*args, **kwargs)\n  File \"C:\\Users\\Bryan\\Anaconda3\\envs\\MNIST\\lib\\site-packages\\tornado\\gen.py\", line 1233, in inner\n    self.run()\n  File \"C:\\Users\\Bryan\\Anaconda3\\envs\\MNIST\\lib\\site-packages\\tornado\\gen.py\", line 1147, in run\n    yielded = self.gen.send(value)\n  File \"C:\\Users\\Bryan\\Anaconda3\\envs\\MNIST\\lib\\site-packages\\ipykernel\\kernelbase.py\", line 370, in dispatch_queue\n    yield self.process_one()\n  File \"C:\\Users\\Bryan\\Anaconda3\\envs\\MNIST\\lib\\site-packages\\tornado\\gen.py\", line 346, in wrapper\n    runner = Runner(result, future, yielded)\n  File \"C:\\Users\\Bryan\\Anaconda3\\envs\\MNIST\\lib\\site-packages\\tornado\\gen.py\", line 1080, in __init__\n    self.run()\n  File \"C:\\Users\\Bryan\\Anaconda3\\envs\\MNIST\\lib\\site-packages\\tornado\\gen.py\", line 1147, in run\n    yielded = self.gen.send(value)\n  File \"C:\\Users\\Bryan\\Anaconda3\\envs\\MNIST\\lib\\site-packages\\ipykernel\\kernelbase.py\", line 357, in process_one\n    yield gen.maybe_future(dispatch(*args))\n  File \"C:\\Users\\Bryan\\Anaconda3\\envs\\MNIST\\lib\\site-packages\\tornado\\gen.py\", line 326, in wrapper\n    yielded = next(result)\n  File \"C:\\Users\\Bryan\\Anaconda3\\envs\\MNIST\\lib\\site-packages\\ipykernel\\kernelbase.py\", line 267, in dispatch_shell\n    yield gen.maybe_future(handler(stream, idents, msg))\n  File \"C:\\Users\\Bryan\\Anaconda3\\envs\\MNIST\\lib\\site-packages\\tornado\\gen.py\", line 326, in wrapper\n    yielded = next(result)\n  File \"C:\\Users\\Bryan\\Anaconda3\\envs\\MNIST\\lib\\site-packages\\ipykernel\\kernelbase.py\", line 534, in execute_request\n    user_expressions, allow_stdin,\n  File \"C:\\Users\\Bryan\\Anaconda3\\envs\\MNIST\\lib\\site-packages\\tornado\\gen.py\", line 326, in wrapper\n    yielded = next(result)\n  File \"C:\\Users\\Bryan\\Anaconda3\\envs\\MNIST\\lib\\site-packages\\ipykernel\\ipkernel.py\", line 294, in do_execute\n    res = shell.run_cell(code, store_history=store_history, silent=silent)\n  File \"C:\\Users\\Bryan\\Anaconda3\\envs\\MNIST\\lib\\site-packages\\ipykernel\\zmqshell.py\", line 536, in run_cell\n    return super(ZMQInteractiveShell, self).run_cell(*args, **kwargs)\n  File \"C:\\Users\\Bryan\\Anaconda3\\envs\\MNIST\\lib\\site-packages\\IPython\\core\\interactiveshell.py\", line 2819, in run_cell\n    raw_cell, store_history, silent, shell_futures)\n  File \"C:\\Users\\Bryan\\Anaconda3\\envs\\MNIST\\lib\\site-packages\\IPython\\core\\interactiveshell.py\", line 2845, in _run_cell\n    return runner(coro)\n  File \"C:\\Users\\Bryan\\Anaconda3\\envs\\MNIST\\lib\\site-packages\\IPython\\core\\async_helpers.py\", line 67, in _pseudo_sync_runner\n    coro.send(None)\n  File \"C:\\Users\\Bryan\\Anaconda3\\envs\\MNIST\\lib\\site-packages\\IPython\\core\\interactiveshell.py\", line 3020, in run_cell_async\n    interactivity=interactivity, compiler=compiler, result=result)\n  File \"C:\\Users\\Bryan\\Anaconda3\\envs\\MNIST\\lib\\site-packages\\IPython\\core\\interactiveshell.py\", line 3185, in run_ast_nodes\n    if (yield from self.run_code(code, result)):\n  File \"C:\\Users\\Bryan\\Anaconda3\\envs\\MNIST\\lib\\site-packages\\IPython\\core\\interactiveshell.py\", line 3267, in run_code\n    exec(code_obj, self.user_global_ns, self.user_ns)\n  File \"<ipython-input-27-268738d692fc>\", line 1, in <module>\n    correct_prediction =tf.equal(y_true_cls, y_pred_cls)\n  File \"C:\\Users\\Bryan\\Anaconda3\\envs\\MNIST\\lib\\site-packages\\tensorflow\\python\\ops\\gen_math_ops.py\", line 2734, in equal\n    \"Equal\", x=x, y=y, name=name)\n  File \"C:\\Users\\Bryan\\Anaconda3\\envs\\MNIST\\lib\\site-packages\\tensorflow\\python\\framework\\op_def_library.py\", line 787, in _apply_op_helper\n    op_def=op_def)\n  File \"C:\\Users\\Bryan\\Anaconda3\\envs\\MNIST\\lib\\site-packages\\tensorflow\\python\\util\\deprecation.py\", line 488, in new_func\n    return func(*args, **kwargs)\n  File \"C:\\Users\\Bryan\\Anaconda3\\envs\\MNIST\\lib\\site-packages\\tensorflow\\python\\framework\\ops.py\", line 3274, in create_op\n    op_def=op_def)\n  File \"C:\\Users\\Bryan\\Anaconda3\\envs\\MNIST\\lib\\site-packages\\tensorflow\\python\\framework\\ops.py\", line 1770, in __init__\n    self._traceback = tf_stack.extract_stack()\n\nInvalidArgumentError (see above for traceback): Incompatible shapes: [60000] vs. [10000]\n\t [[node Equal (defined at <ipython-input-27-268738d692fc>:1)  = Equal[T=DT_INT64, _device=\"/job:localhost/replica:0/task:0/device:GPU:0\"](_arg_Placeholder_2_0_2/_3, ArgMax)]]\n"
     ]
    }
   ],
   "source": [
    "print_accuracy()"
   ]
  },
  {
   "cell_type": "markdown",
   "metadata": {},
   "source": [
    "<h3>Model 2: Keras Implementation of a CNN</h3>"
   ]
  },
  {
   "cell_type": "code",
   "execution_count": 55,
   "metadata": {
    "ExecuteTime": {
     "end_time": "2018-12-31T22:37:35.954588Z",
     "start_time": "2018-12-31T22:37:35.949601Z"
    }
   },
   "outputs": [],
   "source": [
    "from keras.models import Sequential\n",
    "from keras.layers import Dense, Conv2D, Dropout, Flatten, MaxPooling2D\n",
    "import keras"
   ]
  },
  {
   "cell_type": "markdown",
   "metadata": {},
   "source": [
    "<p>Not sure why but a tutorial states that we have to reshape to 4dimensions from 3 for it to work with the keras API. We also normalize our data to make it less computationally expensive. We do this by dividing the max rgb value</p>"
   ]
  },
  {
   "cell_type": "code",
   "execution_count": 40,
   "metadata": {
    "ExecuteTime": {
     "end_time": "2018-12-31T21:45:28.290415Z",
     "start_time": "2018-12-31T21:45:28.134845Z"
    }
   },
   "outputs": [
    {
     "name": "stdout",
     "output_type": "stream",
     "text": [
      "Shape of x_train_4d:  (60000, 28, 28, 1)\n",
      "Shape of x_test_4d:  (10000, 28, 28, 1)\n"
     ]
    }
   ],
   "source": [
    "#reshape to 4 dimensional\n",
    "x_train_4d = x_train.reshape(x_train.shape[0], 28, 28, 1)\n",
    "x_test_4d = x_test.reshape(x_test.shape[0], 28, 28, 1)\n",
    "input_shape = (28, 28, 1)\n",
    "#making sure that the datatypes in the dataset are all floats so we don't round our decimals\n",
    "x_train_4d = x_train_4d.astype('float32')\n",
    "x_test_4d = x_test_4d.astype('float32')\n",
    "#normalizing by dividing max value so values are from 0 to 1\n",
    "x_train_4d /= 255\n",
    "x_test_4d /= 255\n",
    "print(\"Shape of x_train_4d: \", x_train_4d.shape)\n",
    "print(\"Shape of x_test_4d: \", x_test_4d.shape)"
   ]
  },
  {
   "cell_type": "code",
   "execution_count": 41,
   "metadata": {
    "ExecuteTime": {
     "end_time": "2018-12-31T21:45:28.860604Z",
     "start_time": "2018-12-31T21:45:28.846640Z"
    }
   },
   "outputs": [
    {
     "data": {
      "text/plain": [
       "array([[[0.        ],\n",
       "        [0.        ],\n",
       "        [0.        ],\n",
       "        [0.        ],\n",
       "        [0.        ],\n",
       "        [0.        ],\n",
       "        [0.        ],\n",
       "        [0.        ],\n",
       "        [0.        ],\n",
       "        [0.        ],\n",
       "        [0.        ],\n",
       "        [0.        ],\n",
       "        [0.        ],\n",
       "        [0.        ],\n",
       "        [0.        ],\n",
       "        [0.        ],\n",
       "        [0.        ],\n",
       "        [0.        ],\n",
       "        [0.        ],\n",
       "        [0.        ],\n",
       "        [0.        ],\n",
       "        [0.        ],\n",
       "        [0.        ],\n",
       "        [0.        ],\n",
       "        [0.        ],\n",
       "        [0.        ],\n",
       "        [0.        ],\n",
       "        [0.        ]],\n",
       "\n",
       "       [[0.        ],\n",
       "        [0.        ],\n",
       "        [0.        ],\n",
       "        [0.        ],\n",
       "        [0.        ],\n",
       "        [0.        ],\n",
       "        [0.        ],\n",
       "        [0.        ],\n",
       "        [0.        ],\n",
       "        [0.        ],\n",
       "        [0.        ],\n",
       "        [0.        ],\n",
       "        [0.        ],\n",
       "        [0.        ],\n",
       "        [0.        ],\n",
       "        [0.        ],\n",
       "        [0.        ],\n",
       "        [0.        ],\n",
       "        [0.        ],\n",
       "        [0.        ],\n",
       "        [0.        ],\n",
       "        [0.        ],\n",
       "        [0.        ],\n",
       "        [0.        ],\n",
       "        [0.        ],\n",
       "        [0.        ],\n",
       "        [0.        ],\n",
       "        [0.        ]],\n",
       "\n",
       "       [[0.        ],\n",
       "        [0.        ],\n",
       "        [0.        ],\n",
       "        [0.        ],\n",
       "        [0.        ],\n",
       "        [0.        ],\n",
       "        [0.        ],\n",
       "        [0.        ],\n",
       "        [0.        ],\n",
       "        [0.        ],\n",
       "        [0.        ],\n",
       "        [0.        ],\n",
       "        [0.        ],\n",
       "        [0.        ],\n",
       "        [0.        ],\n",
       "        [0.        ],\n",
       "        [0.        ],\n",
       "        [0.        ],\n",
       "        [0.        ],\n",
       "        [0.        ],\n",
       "        [0.        ],\n",
       "        [0.        ],\n",
       "        [0.        ],\n",
       "        [0.        ],\n",
       "        [0.        ],\n",
       "        [0.        ],\n",
       "        [0.        ],\n",
       "        [0.        ]],\n",
       "\n",
       "       [[0.        ],\n",
       "        [0.        ],\n",
       "        [0.        ],\n",
       "        [0.        ],\n",
       "        [0.        ],\n",
       "        [0.        ],\n",
       "        [0.        ],\n",
       "        [0.        ],\n",
       "        [0.        ],\n",
       "        [0.        ],\n",
       "        [0.        ],\n",
       "        [0.        ],\n",
       "        [0.        ],\n",
       "        [0.        ],\n",
       "        [0.        ],\n",
       "        [0.        ],\n",
       "        [0.        ],\n",
       "        [0.        ],\n",
       "        [0.        ],\n",
       "        [0.        ],\n",
       "        [0.        ],\n",
       "        [0.        ],\n",
       "        [0.        ],\n",
       "        [0.        ],\n",
       "        [0.        ],\n",
       "        [0.        ],\n",
       "        [0.        ],\n",
       "        [0.        ]],\n",
       "\n",
       "       [[0.        ],\n",
       "        [0.        ],\n",
       "        [0.        ],\n",
       "        [0.        ],\n",
       "        [0.        ],\n",
       "        [0.        ],\n",
       "        [0.        ],\n",
       "        [0.        ],\n",
       "        [0.        ],\n",
       "        [0.        ],\n",
       "        [0.        ],\n",
       "        [0.        ],\n",
       "        [0.        ],\n",
       "        [0.        ],\n",
       "        [0.        ],\n",
       "        [0.        ],\n",
       "        [0.        ],\n",
       "        [0.        ],\n",
       "        [0.        ],\n",
       "        [0.        ],\n",
       "        [0.        ],\n",
       "        [0.        ],\n",
       "        [0.        ],\n",
       "        [0.        ],\n",
       "        [0.        ],\n",
       "        [0.        ],\n",
       "        [0.        ],\n",
       "        [0.        ]],\n",
       "\n",
       "       [[0.        ],\n",
       "        [0.        ],\n",
       "        [0.        ],\n",
       "        [0.        ],\n",
       "        [0.        ],\n",
       "        [0.        ],\n",
       "        [0.        ],\n",
       "        [0.        ],\n",
       "        [0.        ],\n",
       "        [0.        ],\n",
       "        [0.        ],\n",
       "        [0.        ],\n",
       "        [0.01176471],\n",
       "        [0.07058824],\n",
       "        [0.07058824],\n",
       "        [0.07058824],\n",
       "        [0.49411765],\n",
       "        [0.53333336],\n",
       "        [0.6862745 ],\n",
       "        [0.10196079],\n",
       "        [0.6509804 ],\n",
       "        [1.        ],\n",
       "        [0.96862745],\n",
       "        [0.49803922],\n",
       "        [0.        ],\n",
       "        [0.        ],\n",
       "        [0.        ],\n",
       "        [0.        ]],\n",
       "\n",
       "       [[0.        ],\n",
       "        [0.        ],\n",
       "        [0.        ],\n",
       "        [0.        ],\n",
       "        [0.        ],\n",
       "        [0.        ],\n",
       "        [0.        ],\n",
       "        [0.        ],\n",
       "        [0.11764706],\n",
       "        [0.14117648],\n",
       "        [0.36862746],\n",
       "        [0.6039216 ],\n",
       "        [0.6666667 ],\n",
       "        [0.99215686],\n",
       "        [0.99215686],\n",
       "        [0.99215686],\n",
       "        [0.99215686],\n",
       "        [0.99215686],\n",
       "        [0.88235295],\n",
       "        [0.6745098 ],\n",
       "        [0.99215686],\n",
       "        [0.9490196 ],\n",
       "        [0.7647059 ],\n",
       "        [0.2509804 ],\n",
       "        [0.        ],\n",
       "        [0.        ],\n",
       "        [0.        ],\n",
       "        [0.        ]],\n",
       "\n",
       "       [[0.        ],\n",
       "        [0.        ],\n",
       "        [0.        ],\n",
       "        [0.        ],\n",
       "        [0.        ],\n",
       "        [0.        ],\n",
       "        [0.        ],\n",
       "        [0.19215687],\n",
       "        [0.93333334],\n",
       "        [0.99215686],\n",
       "        [0.99215686],\n",
       "        [0.99215686],\n",
       "        [0.99215686],\n",
       "        [0.99215686],\n",
       "        [0.99215686],\n",
       "        [0.99215686],\n",
       "        [0.99215686],\n",
       "        [0.9843137 ],\n",
       "        [0.3647059 ],\n",
       "        [0.32156864],\n",
       "        [0.32156864],\n",
       "        [0.21960784],\n",
       "        [0.15294118],\n",
       "        [0.        ],\n",
       "        [0.        ],\n",
       "        [0.        ],\n",
       "        [0.        ],\n",
       "        [0.        ]],\n",
       "\n",
       "       [[0.        ],\n",
       "        [0.        ],\n",
       "        [0.        ],\n",
       "        [0.        ],\n",
       "        [0.        ],\n",
       "        [0.        ],\n",
       "        [0.        ],\n",
       "        [0.07058824],\n",
       "        [0.85882354],\n",
       "        [0.99215686],\n",
       "        [0.99215686],\n",
       "        [0.99215686],\n",
       "        [0.99215686],\n",
       "        [0.99215686],\n",
       "        [0.7764706 ],\n",
       "        [0.7137255 ],\n",
       "        [0.96862745],\n",
       "        [0.94509804],\n",
       "        [0.        ],\n",
       "        [0.        ],\n",
       "        [0.        ],\n",
       "        [0.        ],\n",
       "        [0.        ],\n",
       "        [0.        ],\n",
       "        [0.        ],\n",
       "        [0.        ],\n",
       "        [0.        ],\n",
       "        [0.        ]],\n",
       "\n",
       "       [[0.        ],\n",
       "        [0.        ],\n",
       "        [0.        ],\n",
       "        [0.        ],\n",
       "        [0.        ],\n",
       "        [0.        ],\n",
       "        [0.        ],\n",
       "        [0.        ],\n",
       "        [0.3137255 ],\n",
       "        [0.6117647 ],\n",
       "        [0.41960785],\n",
       "        [0.99215686],\n",
       "        [0.99215686],\n",
       "        [0.8039216 ],\n",
       "        [0.04313726],\n",
       "        [0.        ],\n",
       "        [0.16862746],\n",
       "        [0.6039216 ],\n",
       "        [0.        ],\n",
       "        [0.        ],\n",
       "        [0.        ],\n",
       "        [0.        ],\n",
       "        [0.        ],\n",
       "        [0.        ],\n",
       "        [0.        ],\n",
       "        [0.        ],\n",
       "        [0.        ],\n",
       "        [0.        ]],\n",
       "\n",
       "       [[0.        ],\n",
       "        [0.        ],\n",
       "        [0.        ],\n",
       "        [0.        ],\n",
       "        [0.        ],\n",
       "        [0.        ],\n",
       "        [0.        ],\n",
       "        [0.        ],\n",
       "        [0.        ],\n",
       "        [0.05490196],\n",
       "        [0.00392157],\n",
       "        [0.6039216 ],\n",
       "        [0.99215686],\n",
       "        [0.3529412 ],\n",
       "        [0.        ],\n",
       "        [0.        ],\n",
       "        [0.        ],\n",
       "        [0.        ],\n",
       "        [0.        ],\n",
       "        [0.        ],\n",
       "        [0.        ],\n",
       "        [0.        ],\n",
       "        [0.        ],\n",
       "        [0.        ],\n",
       "        [0.        ],\n",
       "        [0.        ],\n",
       "        [0.        ],\n",
       "        [0.        ]],\n",
       "\n",
       "       [[0.        ],\n",
       "        [0.        ],\n",
       "        [0.        ],\n",
       "        [0.        ],\n",
       "        [0.        ],\n",
       "        [0.        ],\n",
       "        [0.        ],\n",
       "        [0.        ],\n",
       "        [0.        ],\n",
       "        [0.        ],\n",
       "        [0.        ],\n",
       "        [0.54509807],\n",
       "        [0.99215686],\n",
       "        [0.74509805],\n",
       "        [0.00784314],\n",
       "        [0.        ],\n",
       "        [0.        ],\n",
       "        [0.        ],\n",
       "        [0.        ],\n",
       "        [0.        ],\n",
       "        [0.        ],\n",
       "        [0.        ],\n",
       "        [0.        ],\n",
       "        [0.        ],\n",
       "        [0.        ],\n",
       "        [0.        ],\n",
       "        [0.        ],\n",
       "        [0.        ]],\n",
       "\n",
       "       [[0.        ],\n",
       "        [0.        ],\n",
       "        [0.        ],\n",
       "        [0.        ],\n",
       "        [0.        ],\n",
       "        [0.        ],\n",
       "        [0.        ],\n",
       "        [0.        ],\n",
       "        [0.        ],\n",
       "        [0.        ],\n",
       "        [0.        ],\n",
       "        [0.04313726],\n",
       "        [0.74509805],\n",
       "        [0.99215686],\n",
       "        [0.27450982],\n",
       "        [0.        ],\n",
       "        [0.        ],\n",
       "        [0.        ],\n",
       "        [0.        ],\n",
       "        [0.        ],\n",
       "        [0.        ],\n",
       "        [0.        ],\n",
       "        [0.        ],\n",
       "        [0.        ],\n",
       "        [0.        ],\n",
       "        [0.        ],\n",
       "        [0.        ],\n",
       "        [0.        ]],\n",
       "\n",
       "       [[0.        ],\n",
       "        [0.        ],\n",
       "        [0.        ],\n",
       "        [0.        ],\n",
       "        [0.        ],\n",
       "        [0.        ],\n",
       "        [0.        ],\n",
       "        [0.        ],\n",
       "        [0.        ],\n",
       "        [0.        ],\n",
       "        [0.        ],\n",
       "        [0.        ],\n",
       "        [0.13725491],\n",
       "        [0.94509804],\n",
       "        [0.88235295],\n",
       "        [0.627451  ],\n",
       "        [0.42352942],\n",
       "        [0.00392157],\n",
       "        [0.        ],\n",
       "        [0.        ],\n",
       "        [0.        ],\n",
       "        [0.        ],\n",
       "        [0.        ],\n",
       "        [0.        ],\n",
       "        [0.        ],\n",
       "        [0.        ],\n",
       "        [0.        ],\n",
       "        [0.        ]],\n",
       "\n",
       "       [[0.        ],\n",
       "        [0.        ],\n",
       "        [0.        ],\n",
       "        [0.        ],\n",
       "        [0.        ],\n",
       "        [0.        ],\n",
       "        [0.        ],\n",
       "        [0.        ],\n",
       "        [0.        ],\n",
       "        [0.        ],\n",
       "        [0.        ],\n",
       "        [0.        ],\n",
       "        [0.        ],\n",
       "        [0.31764707],\n",
       "        [0.9411765 ],\n",
       "        [0.99215686],\n",
       "        [0.99215686],\n",
       "        [0.46666667],\n",
       "        [0.09803922],\n",
       "        [0.        ],\n",
       "        [0.        ],\n",
       "        [0.        ],\n",
       "        [0.        ],\n",
       "        [0.        ],\n",
       "        [0.        ],\n",
       "        [0.        ],\n",
       "        [0.        ],\n",
       "        [0.        ]],\n",
       "\n",
       "       [[0.        ],\n",
       "        [0.        ],\n",
       "        [0.        ],\n",
       "        [0.        ],\n",
       "        [0.        ],\n",
       "        [0.        ],\n",
       "        [0.        ],\n",
       "        [0.        ],\n",
       "        [0.        ],\n",
       "        [0.        ],\n",
       "        [0.        ],\n",
       "        [0.        ],\n",
       "        [0.        ],\n",
       "        [0.        ],\n",
       "        [0.1764706 ],\n",
       "        [0.7294118 ],\n",
       "        [0.99215686],\n",
       "        [0.99215686],\n",
       "        [0.5882353 ],\n",
       "        [0.10588235],\n",
       "        [0.        ],\n",
       "        [0.        ],\n",
       "        [0.        ],\n",
       "        [0.        ],\n",
       "        [0.        ],\n",
       "        [0.        ],\n",
       "        [0.        ],\n",
       "        [0.        ]],\n",
       "\n",
       "       [[0.        ],\n",
       "        [0.        ],\n",
       "        [0.        ],\n",
       "        [0.        ],\n",
       "        [0.        ],\n",
       "        [0.        ],\n",
       "        [0.        ],\n",
       "        [0.        ],\n",
       "        [0.        ],\n",
       "        [0.        ],\n",
       "        [0.        ],\n",
       "        [0.        ],\n",
       "        [0.        ],\n",
       "        [0.        ],\n",
       "        [0.        ],\n",
       "        [0.0627451 ],\n",
       "        [0.3647059 ],\n",
       "        [0.9882353 ],\n",
       "        [0.99215686],\n",
       "        [0.73333335],\n",
       "        [0.        ],\n",
       "        [0.        ],\n",
       "        [0.        ],\n",
       "        [0.        ],\n",
       "        [0.        ],\n",
       "        [0.        ],\n",
       "        [0.        ],\n",
       "        [0.        ]],\n",
       "\n",
       "       [[0.        ],\n",
       "        [0.        ],\n",
       "        [0.        ],\n",
       "        [0.        ],\n",
       "        [0.        ],\n",
       "        [0.        ],\n",
       "        [0.        ],\n",
       "        [0.        ],\n",
       "        [0.        ],\n",
       "        [0.        ],\n",
       "        [0.        ],\n",
       "        [0.        ],\n",
       "        [0.        ],\n",
       "        [0.        ],\n",
       "        [0.        ],\n",
       "        [0.        ],\n",
       "        [0.        ],\n",
       "        [0.9764706 ],\n",
       "        [0.99215686],\n",
       "        [0.9764706 ],\n",
       "        [0.2509804 ],\n",
       "        [0.        ],\n",
       "        [0.        ],\n",
       "        [0.        ],\n",
       "        [0.        ],\n",
       "        [0.        ],\n",
       "        [0.        ],\n",
       "        [0.        ]],\n",
       "\n",
       "       [[0.        ],\n",
       "        [0.        ],\n",
       "        [0.        ],\n",
       "        [0.        ],\n",
       "        [0.        ],\n",
       "        [0.        ],\n",
       "        [0.        ],\n",
       "        [0.        ],\n",
       "        [0.        ],\n",
       "        [0.        ],\n",
       "        [0.        ],\n",
       "        [0.        ],\n",
       "        [0.        ],\n",
       "        [0.        ],\n",
       "        [0.18039216],\n",
       "        [0.50980395],\n",
       "        [0.7176471 ],\n",
       "        [0.99215686],\n",
       "        [0.99215686],\n",
       "        [0.8117647 ],\n",
       "        [0.00784314],\n",
       "        [0.        ],\n",
       "        [0.        ],\n",
       "        [0.        ],\n",
       "        [0.        ],\n",
       "        [0.        ],\n",
       "        [0.        ],\n",
       "        [0.        ]],\n",
       "\n",
       "       [[0.        ],\n",
       "        [0.        ],\n",
       "        [0.        ],\n",
       "        [0.        ],\n",
       "        [0.        ],\n",
       "        [0.        ],\n",
       "        [0.        ],\n",
       "        [0.        ],\n",
       "        [0.        ],\n",
       "        [0.        ],\n",
       "        [0.        ],\n",
       "        [0.        ],\n",
       "        [0.15294118],\n",
       "        [0.5803922 ],\n",
       "        [0.8980392 ],\n",
       "        [0.99215686],\n",
       "        [0.99215686],\n",
       "        [0.99215686],\n",
       "        [0.98039216],\n",
       "        [0.7137255 ],\n",
       "        [0.        ],\n",
       "        [0.        ],\n",
       "        [0.        ],\n",
       "        [0.        ],\n",
       "        [0.        ],\n",
       "        [0.        ],\n",
       "        [0.        ],\n",
       "        [0.        ]],\n",
       "\n",
       "       [[0.        ],\n",
       "        [0.        ],\n",
       "        [0.        ],\n",
       "        [0.        ],\n",
       "        [0.        ],\n",
       "        [0.        ],\n",
       "        [0.        ],\n",
       "        [0.        ],\n",
       "        [0.        ],\n",
       "        [0.        ],\n",
       "        [0.09411765],\n",
       "        [0.44705883],\n",
       "        [0.8666667 ],\n",
       "        [0.99215686],\n",
       "        [0.99215686],\n",
       "        [0.99215686],\n",
       "        [0.99215686],\n",
       "        [0.7882353 ],\n",
       "        [0.30588236],\n",
       "        [0.        ],\n",
       "        [0.        ],\n",
       "        [0.        ],\n",
       "        [0.        ],\n",
       "        [0.        ],\n",
       "        [0.        ],\n",
       "        [0.        ],\n",
       "        [0.        ],\n",
       "        [0.        ]],\n",
       "\n",
       "       [[0.        ],\n",
       "        [0.        ],\n",
       "        [0.        ],\n",
       "        [0.        ],\n",
       "        [0.        ],\n",
       "        [0.        ],\n",
       "        [0.        ],\n",
       "        [0.        ],\n",
       "        [0.09019608],\n",
       "        [0.25882354],\n",
       "        [0.8352941 ],\n",
       "        [0.99215686],\n",
       "        [0.99215686],\n",
       "        [0.99215686],\n",
       "        [0.99215686],\n",
       "        [0.7764706 ],\n",
       "        [0.31764707],\n",
       "        [0.00784314],\n",
       "        [0.        ],\n",
       "        [0.        ],\n",
       "        [0.        ],\n",
       "        [0.        ],\n",
       "        [0.        ],\n",
       "        [0.        ],\n",
       "        [0.        ],\n",
       "        [0.        ],\n",
       "        [0.        ],\n",
       "        [0.        ]],\n",
       "\n",
       "       [[0.        ],\n",
       "        [0.        ],\n",
       "        [0.        ],\n",
       "        [0.        ],\n",
       "        [0.        ],\n",
       "        [0.        ],\n",
       "        [0.07058824],\n",
       "        [0.67058825],\n",
       "        [0.85882354],\n",
       "        [0.99215686],\n",
       "        [0.99215686],\n",
       "        [0.99215686],\n",
       "        [0.99215686],\n",
       "        [0.7647059 ],\n",
       "        [0.3137255 ],\n",
       "        [0.03529412],\n",
       "        [0.        ],\n",
       "        [0.        ],\n",
       "        [0.        ],\n",
       "        [0.        ],\n",
       "        [0.        ],\n",
       "        [0.        ],\n",
       "        [0.        ],\n",
       "        [0.        ],\n",
       "        [0.        ],\n",
       "        [0.        ],\n",
       "        [0.        ],\n",
       "        [0.        ]],\n",
       "\n",
       "       [[0.        ],\n",
       "        [0.        ],\n",
       "        [0.        ],\n",
       "        [0.        ],\n",
       "        [0.21568628],\n",
       "        [0.6745098 ],\n",
       "        [0.8862745 ],\n",
       "        [0.99215686],\n",
       "        [0.99215686],\n",
       "        [0.99215686],\n",
       "        [0.99215686],\n",
       "        [0.95686275],\n",
       "        [0.52156866],\n",
       "        [0.04313726],\n",
       "        [0.        ],\n",
       "        [0.        ],\n",
       "        [0.        ],\n",
       "        [0.        ],\n",
       "        [0.        ],\n",
       "        [0.        ],\n",
       "        [0.        ],\n",
       "        [0.        ],\n",
       "        [0.        ],\n",
       "        [0.        ],\n",
       "        [0.        ],\n",
       "        [0.        ],\n",
       "        [0.        ],\n",
       "        [0.        ]],\n",
       "\n",
       "       [[0.        ],\n",
       "        [0.        ],\n",
       "        [0.        ],\n",
       "        [0.        ],\n",
       "        [0.53333336],\n",
       "        [0.99215686],\n",
       "        [0.99215686],\n",
       "        [0.99215686],\n",
       "        [0.83137256],\n",
       "        [0.5294118 ],\n",
       "        [0.5176471 ],\n",
       "        [0.0627451 ],\n",
       "        [0.        ],\n",
       "        [0.        ],\n",
       "        [0.        ],\n",
       "        [0.        ],\n",
       "        [0.        ],\n",
       "        [0.        ],\n",
       "        [0.        ],\n",
       "        [0.        ],\n",
       "        [0.        ],\n",
       "        [0.        ],\n",
       "        [0.        ],\n",
       "        [0.        ],\n",
       "        [0.        ],\n",
       "        [0.        ],\n",
       "        [0.        ],\n",
       "        [0.        ]],\n",
       "\n",
       "       [[0.        ],\n",
       "        [0.        ],\n",
       "        [0.        ],\n",
       "        [0.        ],\n",
       "        [0.        ],\n",
       "        [0.        ],\n",
       "        [0.        ],\n",
       "        [0.        ],\n",
       "        [0.        ],\n",
       "        [0.        ],\n",
       "        [0.        ],\n",
       "        [0.        ],\n",
       "        [0.        ],\n",
       "        [0.        ],\n",
       "        [0.        ],\n",
       "        [0.        ],\n",
       "        [0.        ],\n",
       "        [0.        ],\n",
       "        [0.        ],\n",
       "        [0.        ],\n",
       "        [0.        ],\n",
       "        [0.        ],\n",
       "        [0.        ],\n",
       "        [0.        ],\n",
       "        [0.        ],\n",
       "        [0.        ],\n",
       "        [0.        ],\n",
       "        [0.        ]],\n",
       "\n",
       "       [[0.        ],\n",
       "        [0.        ],\n",
       "        [0.        ],\n",
       "        [0.        ],\n",
       "        [0.        ],\n",
       "        [0.        ],\n",
       "        [0.        ],\n",
       "        [0.        ],\n",
       "        [0.        ],\n",
       "        [0.        ],\n",
       "        [0.        ],\n",
       "        [0.        ],\n",
       "        [0.        ],\n",
       "        [0.        ],\n",
       "        [0.        ],\n",
       "        [0.        ],\n",
       "        [0.        ],\n",
       "        [0.        ],\n",
       "        [0.        ],\n",
       "        [0.        ],\n",
       "        [0.        ],\n",
       "        [0.        ],\n",
       "        [0.        ],\n",
       "        [0.        ],\n",
       "        [0.        ],\n",
       "        [0.        ],\n",
       "        [0.        ],\n",
       "        [0.        ]],\n",
       "\n",
       "       [[0.        ],\n",
       "        [0.        ],\n",
       "        [0.        ],\n",
       "        [0.        ],\n",
       "        [0.        ],\n",
       "        [0.        ],\n",
       "        [0.        ],\n",
       "        [0.        ],\n",
       "        [0.        ],\n",
       "        [0.        ],\n",
       "        [0.        ],\n",
       "        [0.        ],\n",
       "        [0.        ],\n",
       "        [0.        ],\n",
       "        [0.        ],\n",
       "        [0.        ],\n",
       "        [0.        ],\n",
       "        [0.        ],\n",
       "        [0.        ],\n",
       "        [0.        ],\n",
       "        [0.        ],\n",
       "        [0.        ],\n",
       "        [0.        ],\n",
       "        [0.        ],\n",
       "        [0.        ],\n",
       "        [0.        ],\n",
       "        [0.        ],\n",
       "        [0.        ]]], dtype=float32)"
      ]
     },
     "execution_count": 41,
     "metadata": {},
     "output_type": "execute_result"
    }
   ],
   "source": [
    "x_train_4d[0]\n",
    "#verify that values are floats, normalized, and have the correct dimensions."
   ]
  },
  {
   "cell_type": "code",
   "execution_count": 42,
   "metadata": {
    "ExecuteTime": {
     "end_time": "2018-12-31T21:45:34.013900Z",
     "start_time": "2018-12-31T21:45:32.430633Z"
    }
   },
   "outputs": [
    {
     "data": {
      "image/png": "[encoded data removed]",
      "text/plain": [
       "<IPython.core.display.Image object>"
      ]
     },
     "execution_count": 42,
     "metadata": {},
     "output_type": "execute_result"
    }
   ],
   "source": [
    "from IPython.display import Image\n",
    "Image('https://engmrk.com/wp-content/uploads/2018/09/Image_CNN-768x260.png')"
   ]
  },
  {
   "cell_type": "markdown",
   "metadata": {},
   "source": [
    "<p>The above image is the architecture that we will be using in keras to build our CNN. The layers are in the following order\n",
    "    <ol>\n",
    "        <li>input layer</li>\n",
    "        <li>32 filters of size 5x5</li>\n",
    "        <li>Max pooling layer with pool size of 2x2</li>\n",
    "        <li>64 filters of size 5x5</li>\n",
    "        <li>Max pooling layer with pool size of 2x2</li>\n",
    "        <li>Flattening layer to convert 2D matrix to 1D vectors (allow us to fully connect in next layer)</li>\n",
    "        <li>fully connected layer with 1024 neurons and relu activation functions.</li>\n",
    "        <li>droupout 20% of neurons randomly to reduce overfitting</li>\n",
    "        <li>lastly we will use a softmax layer to make the actual classification vector</li>\n",
    "    </ol>\n",
    "</p>"
   ]
  },
  {
   "cell_type": "code",
   "execution_count": 43,
   "metadata": {
    "ExecuteTime": {
     "end_time": "2018-12-31T21:45:34.174602Z",
     "start_time": "2018-12-31T21:45:34.059769Z"
    }
   },
   "outputs": [],
   "source": [
    "model = Sequential()\n",
    "model.add(Conv2D(32, kernel_size=(5,5), input_shape=input_shape))\n",
    "model.add(MaxPooling2D(pool_size=(2,2)))\n",
    "model.add(Conv2D(64, kernel_size=(5,5), input_shape=input_shape))\n",
    "model.add(MaxPooling2D(pool_size=(2,2)))\n",
    "model.add(Flatten())\n",
    "model.add(Dense(1024, activation=tf.nn.relu))\n",
    "model.add(Dropout(0.2))\n",
    "model.add(Dense(10,activation=tf.nn.softmax))"
   ]
  },
  {
   "cell_type": "code",
   "execution_count": 44,
   "metadata": {
    "ExecuteTime": {
     "end_time": "2018-12-31T21:45:34.272205Z",
     "start_time": "2018-12-31T21:45:34.211361Z"
    }
   },
   "outputs": [],
   "source": [
    "model.compile(optimizer='adam',loss='sparse_categorical_crossentropy',metrics=['accuracy'])"
   ]
  },
  {
   "cell_type": "code",
   "execution_count": 45,
   "metadata": {
    "ExecuteTime": {
     "end_time": "2018-12-31T22:03:52.323767Z",
     "start_time": "2018-12-31T21:45:34.310096Z"
    }
   },
   "outputs": [
    {
     "name": "stdout",
     "output_type": "stream",
     "text": [
      "Epoch 1/100\n",
      "60000/60000 [==============================] - 12s 201us/step - loss: 0.1226 - acc: 0.9622\n",
      "Epoch 2/100\n",
      "60000/60000 [==============================] - 11s 181us/step - loss: 0.0539 - acc: 0.9841\n",
      "Epoch 3/100\n",
      "60000/60000 [==============================] - 11s 181us/step - loss: 0.0441 - acc: 0.9869\n",
      "Epoch 4/100\n",
      "60000/60000 [==============================] - 11s 181us/step - loss: 0.0392 - acc: 0.9886\n",
      "Epoch 5/100\n",
      "60000/60000 [==============================] - 11s 184us/step - loss: 0.0363 - acc: 0.9902\n",
      "Epoch 6/100\n",
      "60000/60000 [==============================] - 11s 184us/step - loss: 0.0323 - acc: 0.9918\n",
      "Epoch 7/100\n",
      "60000/60000 [==============================] - 11s 183us/step - loss: 0.0346 - acc: 0.9918\n",
      "Epoch 8/100\n",
      "60000/60000 [==============================] - 11s 183us/step - loss: 0.0289 - acc: 0.9928\n",
      "Epoch 9/100\n",
      "60000/60000 [==============================] - 11s 182us/step - loss: 0.0304 - acc: 0.9934\n",
      "Epoch 10/100\n",
      "60000/60000 [==============================] - 11s 183us/step - loss: 0.0368 - acc: 0.9920\n",
      "Epoch 11/100\n",
      "60000/60000 [==============================] - 11s 184us/step - loss: 0.0318 - acc: 0.9943\n",
      "Epoch 12/100\n",
      "60000/60000 [==============================] - 11s 185us/step - loss: 0.0350 - acc: 0.9941\n",
      "Epoch 13/100\n",
      "60000/60000 [==============================] - 11s 190us/step - loss: 0.0411 - acc: 0.9936\n",
      "Epoch 14/100\n",
      "60000/60000 [==============================] - 11s 183us/step - loss: 0.0443 - acc: 0.9940\n",
      "Epoch 15/100\n",
      "60000/60000 [==============================] - 11s 185us/step - loss: 0.0537 - acc: 0.9933\n",
      "Epoch 16/100\n",
      "60000/60000 [==============================] - 11s 184us/step - loss: 0.0589 - acc: 0.9938\n",
      "Epoch 17/100\n",
      "60000/60000 [==============================] - 11s 185us/step - loss: 0.0738 - acc: 0.9933\n",
      "Epoch 18/100\n",
      "60000/60000 [==============================] - 11s 186us/step - loss: 0.0845 - acc: 0.9925\n",
      "Epoch 19/100\n",
      "60000/60000 [==============================] - 11s 184us/step - loss: 0.0845 - acc: 0.9930\n",
      "Epoch 20/100\n",
      "60000/60000 [==============================] - 11s 182us/step - loss: 0.1116 - acc: 0.9917\n",
      "Epoch 21/100\n",
      "60000/60000 [==============================] - 11s 183us/step - loss: 0.1140 - acc: 0.9916\n",
      "Epoch 22/100\n",
      "60000/60000 [==============================] - 11s 182us/step - loss: 0.1388 - acc: 0.9902\n",
      "Epoch 23/100\n",
      "60000/60000 [==============================] - 11s 182us/step - loss: 0.1390 - acc: 0.9903\n",
      "Epoch 24/100\n",
      "60000/60000 [==============================] - 11s 183us/step - loss: 0.1579 - acc: 0.9893\n",
      "Epoch 25/100\n",
      "60000/60000 [==============================] - 11s 185us/step - loss: 0.1802 - acc: 0.9880\n",
      "Epoch 26/100\n",
      "60000/60000 [==============================] - 11s 184us/step - loss: 0.1639 - acc: 0.9891\n",
      "Epoch 27/100\n",
      "60000/60000 [==============================] - 11s 183us/step - loss: 0.1863 - acc: 0.9879\n",
      "Epoch 28/100\n",
      "60000/60000 [==============================] - 11s 182us/step - loss: 0.1837 - acc: 0.9880\n",
      "Epoch 29/100\n",
      "60000/60000 [==============================] - 11s 182us/step - loss: 0.1640 - acc: 0.9894\n",
      "Epoch 30/100\n",
      "60000/60000 [==============================] - 11s 185us/step - loss: 0.2077 - acc: 0.9867\n",
      "Epoch 31/100\n",
      "60000/60000 [==============================] - 11s 185us/step - loss: 0.3100 - acc: 0.9804\n",
      "Epoch 32/100\n",
      "60000/60000 [==============================] - 11s 184us/step - loss: 0.2747 - acc: 0.9824\n",
      "Epoch 33/100\n",
      "60000/60000 [==============================] - 11s 183us/step - loss: 0.2935 - acc: 0.9815\n",
      "Epoch 34/100\n",
      "60000/60000 [==============================] - 11s 184us/step - loss: 0.2610 - acc: 0.9834\n",
      "Epoch 35/100\n",
      "60000/60000 [==============================] - 11s 183us/step - loss: 0.3231 - acc: 0.9797\n",
      "Epoch 36/100\n",
      "60000/60000 [==============================] - 11s 182us/step - loss: 0.2651 - acc: 0.9833\n",
      "Epoch 37/100\n",
      "60000/60000 [==============================] - 11s 182us/step - loss: 0.3031 - acc: 0.9809\n",
      "Epoch 38/100\n",
      "60000/60000 [==============================] - 11s 182us/step - loss: 0.3294 - acc: 0.9793\n",
      "Epoch 39/100\n",
      "60000/60000 [==============================] - 11s 183us/step - loss: 0.3412 - acc: 0.9787\n",
      "Epoch 40/100\n",
      "60000/60000 [==============================] - 11s 183us/step - loss: 0.3063 - acc: 0.9808\n",
      "Epoch 41/100\n",
      "60000/60000 [==============================] - 11s 182us/step - loss: 0.3176 - acc: 0.9801\n",
      "Epoch 42/100\n",
      "60000/60000 [==============================] - 11s 183us/step - loss: 0.3319 - acc: 0.9791\n",
      "Epoch 43/100\n",
      "60000/60000 [==============================] - 11s 182us/step - loss: 0.3289 - acc: 0.9794\n",
      "Epoch 44/100\n",
      "60000/60000 [==============================] - 11s 182us/step - loss: 0.3313 - acc: 0.9792\n",
      "Epoch 45/100\n",
      "60000/60000 [==============================] - 11s 182us/step - loss: 0.4133 - acc: 0.9741\n",
      "Epoch 46/100\n",
      "60000/60000 [==============================] - 11s 182us/step - loss: 0.3945 - acc: 0.9752\n",
      "Epoch 47/100\n",
      "60000/60000 [==============================] - 11s 182us/step - loss: 0.3803 - acc: 0.9762\n",
      "Epoch 48/100\n",
      "60000/60000 [==============================] - 11s 181us/step - loss: 0.3857 - acc: 0.9759\n",
      "Epoch 49/100\n",
      "60000/60000 [==============================] - 11s 178us/step - loss: 0.3731 - acc: 0.9767\n",
      "Epoch 50/100\n",
      "60000/60000 [==============================] - 11s 182us/step - loss: 0.4110 - acc: 0.9743\n",
      "Epoch 51/100\n",
      "60000/60000 [==============================] - 11s 183us/step - loss: 0.4610 - acc: 0.9712\n",
      "Epoch 52/100\n",
      "60000/60000 [==============================] - 11s 183us/step - loss: 0.4117 - acc: 0.9742\n",
      "Epoch 53/100\n",
      "60000/60000 [==============================] - 11s 181us/step - loss: 0.4141 - acc: 0.9742\n",
      "Epoch 54/100\n",
      "60000/60000 [==============================] - 11s 181us/step - loss: 0.2819 - acc: 0.9824\n",
      "Epoch 55/100\n",
      "60000/60000 [==============================] - 11s 182us/step - loss: 0.4475 - acc: 0.9721\n",
      "Epoch 56/100\n",
      "60000/60000 [==============================] - 11s 184us/step - loss: 0.5793 - acc: 0.9639\n",
      "Epoch 57/100\n",
      "60000/60000 [==============================] - 11s 182us/step - loss: 0.3470 - acc: 0.9784\n",
      "Epoch 58/100\n",
      "60000/60000 [==============================] - 11s 185us/step - loss: 0.3477 - acc: 0.9784\n",
      "Epoch 59/100\n",
      "60000/60000 [==============================] - 11s 184us/step - loss: 0.4419 - acc: 0.9724\n",
      "Epoch 60/100\n",
      "60000/60000 [==============================] - 11s 182us/step - loss: 0.4142 - acc: 0.9742\n",
      "Epoch 61/100\n",
      "60000/60000 [==============================] - 11s 182us/step - loss: 0.4397 - acc: 0.9726\n",
      "Epoch 62/100\n",
      "60000/60000 [==============================] - 11s 181us/step - loss: 0.4028 - acc: 0.9749\n",
      "Epoch 63/100\n",
      "60000/60000 [==============================] - 11s 184us/step - loss: 0.3769 - acc: 0.9765\n",
      "Epoch 64/100\n",
      "60000/60000 [==============================] - 11s 182us/step - loss: 0.4374 - acc: 0.9728\n",
      "Epoch 65/100\n",
      "60000/60000 [==============================] - 11s 180us/step - loss: 0.4412 - acc: 0.9726\n",
      "Epoch 66/100\n",
      "60000/60000 [==============================] - 11s 182us/step - loss: 0.4135 - acc: 0.9742\n",
      "Epoch 67/100\n",
      "60000/60000 [==============================] - 11s 182us/step - loss: 0.3818 - acc: 0.9762\n",
      "Epoch 68/100\n",
      "60000/60000 [==============================] - 11s 183us/step - loss: 0.4793 - acc: 0.9702\n",
      "Epoch 69/100\n",
      "60000/60000 [==============================] - 11s 180us/step - loss: 0.5391 - acc: 0.9664\n",
      "Epoch 70/100\n",
      "60000/60000 [==============================] - 11s 182us/step - loss: 0.5389 - acc: 0.9665\n",
      "Epoch 71/100\n",
      "60000/60000 [==============================] - 11s 181us/step - loss: 0.4453 - acc: 0.9723\n",
      "Epoch 72/100\n",
      "60000/60000 [==============================] - 11s 182us/step - loss: 0.5301 - acc: 0.9670\n",
      "Epoch 73/100\n",
      "60000/60000 [==============================] - 11s 182us/step - loss: 0.5575 - acc: 0.9653\n",
      "Epoch 74/100\n",
      "60000/60000 [==============================] - 11s 183us/step - loss: 0.4396 - acc: 0.9727\n",
      "Epoch 75/100\n",
      "60000/60000 [==============================] - 11s 184us/step - loss: 0.4062 - acc: 0.9747\n",
      "Epoch 76/100\n",
      "60000/60000 [==============================] - 11s 182us/step - loss: 0.5771 - acc: 0.9641\n",
      "Epoch 77/100\n",
      "60000/60000 [==============================] - 11s 182us/step - loss: 0.4795 - acc: 0.9702\n",
      "Epoch 78/100\n",
      "60000/60000 [==============================] - 11s 182us/step - loss: 0.5575 - acc: 0.9653\n",
      "Epoch 79/100\n"
     ]
    },
    {
     "name": "stdout",
     "output_type": "stream",
     "text": [
      "60000/60000 [==============================] - 11s 183us/step - loss: 0.3833 - acc: 0.9762\n",
      "Epoch 80/100\n",
      "60000/60000 [==============================] - 11s 182us/step - loss: 0.3555 - acc: 0.9779\n",
      "Epoch 81/100\n",
      "60000/60000 [==============================] - 11s 182us/step - loss: 0.4407 - acc: 0.9726\n",
      "Epoch 82/100\n",
      "60000/60000 [==============================] - 11s 183us/step - loss: 0.5078 - acc: 0.9684\n",
      "Epoch 83/100\n",
      "60000/60000 [==============================] - 11s 183us/step - loss: 0.4826 - acc: 0.9699\n",
      "Epoch 84/100\n",
      "60000/60000 [==============================] - 11s 183us/step - loss: 0.5388 - acc: 0.9665\n",
      "Epoch 85/100\n",
      "60000/60000 [==============================] - 11s 185us/step - loss: 0.5134 - acc: 0.9681\n",
      "Epoch 86/100\n",
      "60000/60000 [==============================] - 11s 186us/step - loss: 0.7048 - acc: 0.9562\n",
      "Epoch 87/100\n",
      "60000/60000 [==============================] - 11s 182us/step - loss: 0.4616 - acc: 0.9713\n",
      "Epoch 88/100\n",
      "60000/60000 [==============================] - 11s 179us/step - loss: 0.4317 - acc: 0.9731\n",
      "Epoch 89/100\n",
      "60000/60000 [==============================] - 11s 180us/step - loss: 0.5891 - acc: 0.9634\n",
      "Epoch 90/100\n",
      "60000/60000 [==============================] - 11s 183us/step - loss: 0.6710 - acc: 0.9583\n",
      "Epoch 91/100\n",
      "60000/60000 [==============================] - 11s 183us/step - loss: 0.4717 - acc: 0.9707\n",
      "Epoch 92/100\n",
      "60000/60000 [==============================] - 11s 183us/step - loss: 0.6624 - acc: 0.9588\n",
      "Epoch 93/100\n",
      "60000/60000 [==============================] - 11s 184us/step - loss: 0.5197 - acc: 0.9677\n",
      "Epoch 94/100\n",
      "60000/60000 [==============================] - 11s 184us/step - loss: 0.5410 - acc: 0.9664\n",
      "Epoch 95/100\n",
      "60000/60000 [==============================] - 11s 184us/step - loss: 0.4489 - acc: 0.9721\n",
      "Epoch 96/100\n",
      "60000/60000 [==============================] - 11s 184us/step - loss: 0.4007 - acc: 0.9751\n",
      "Epoch 97/100\n",
      "60000/60000 [==============================] - 11s 183us/step - loss: 0.4377 - acc: 0.9727\n",
      "Epoch 98/100\n",
      "60000/60000 [==============================] - 11s 184us/step - loss: 0.4376 - acc: 0.9728\n",
      "Epoch 99/100\n",
      "60000/60000 [==============================] - 11s 183us/step - loss: 0.5173 - acc: 0.9679\n",
      "Epoch 100/100\n",
      "60000/60000 [==============================] - 11s 181us/step - loss: 0.4006 - acc: 0.9751\n"
     ]
    },
    {
     "data": {
      "text/plain": [
       "<keras.callbacks.History at 0x1776f70efd0>"
      ]
     },
     "execution_count": 45,
     "metadata": {},
     "output_type": "execute_result"
    }
   ],
   "source": [
    "model.fit(x=x_train_4d,y=y_train_cls,epochs=100)"
   ]
  },
  {
   "cell_type": "code",
   "execution_count": 51,
   "metadata": {
    "ExecuteTime": {
     "end_time": "2018-12-31T22:35:30.573117Z",
     "start_time": "2018-12-31T22:35:30.566165Z"
    }
   },
   "outputs": [],
   "source": [
    "x_test_4d = x_test.reshape(x_test.shape[0], 28, 28, 1)"
   ]
  },
  {
   "cell_type": "code",
   "execution_count": 52,
   "metadata": {
    "ExecuteTime": {
     "end_time": "2018-12-31T22:35:49.065094Z",
     "start_time": "2018-12-31T22:35:48.400585Z"
    }
   },
   "outputs": [
    {
     "name": "stdout",
     "output_type": "stream",
     "text": [
      "The mean squared error (MSE) for the test data set is: [0.4142360282180402, 0.9743]\n"
     ]
    }
   ],
   "source": [
    "test_error_rate = model.evaluate(x_test_4d, y_test_cls, verbose=0)\n",
    "print(\"The mean squared error (MSE) for the test data set is: {}\".format(test_error_rate))"
   ]
  },
  {
   "cell_type": "code",
   "execution_count": 53,
   "metadata": {
    "ExecuteTime": {
     "end_time": "2018-12-31T22:36:47.302865Z",
     "start_time": "2018-12-31T22:36:47.141852Z"
    }
   },
   "outputs": [],
   "source": [
    "model.save(\"train_model_2.h5\")"
   ]
  },
  {
   "cell_type": "code",
   "execution_count": 57,
   "metadata": {
    "ExecuteTime": {
     "end_time": "2018-12-31T22:38:07.497629Z",
     "start_time": "2018-12-31T22:38:06.421626Z"
    }
   },
   "outputs": [],
   "source": [
    "model = keras.models.load_model('train_model_2.h5')"
   ]
  },
  {
   "cell_type": "code",
   "execution_count": 58,
   "metadata": {
    "ExecuteTime": {
     "end_time": "2018-12-31T22:38:11.202205Z",
     "start_time": "2018-12-31T22:38:11.199213Z"
    }
   },
   "outputs": [],
   "source": [
    "#predictions = model.predict(new_data)"
   ]
  },
  {
   "cell_type": "markdown",
   "metadata": {},
   "source": [
    "<p>This completes the implementation of the 2nd CNN model using the higher level keras APi</p>"
   ]
  }
 ],
 "metadata": {
  "kernelspec": {
   "display_name": "Python 3",
   "language": "python",
   "name": "python3"
  },
  "language_info": {
   "codemirror_mode": {
    "name": "ipython",
    "version": 3
   },
   "file_extension": ".py",
   "mimetype": "text/x-python",
   "name": "python",
   "nbconvert_exporter": "python",
   "pygments_lexer": "ipython3",
   "version": "3.6.7"
  },
  "toc": {
   "base_numbering": 1,
   "nav_menu": {},
   "number_sections": true,
   "sideBar": true,
   "skip_h1_title": false,
   "title_cell": "Table of Contents",
   "title_sidebar": "Contents",
   "toc_cell": false,
   "toc_position": {},
   "toc_section_display": true,
   "toc_window_display": false
  },
  "varInspector": {
   "cols": {
    "lenName": 16,
    "lenType": 16,
    "lenVar": 40
   },
   "kernels_config": {
    "python": {
     "delete_cmd_postfix": "",
     "delete_cmd_prefix": "del ",
     "library": "var_list.py",
     "varRefreshCmd": "print(var_dic_list())"
    },
    "r": {
     "delete_cmd_postfix": ") ",
     "delete_cmd_prefix": "rm(",
     "library": "var_list.r",
     "varRefreshCmd": "cat(var_dic_list()) "
    }
   },
   "types_to_exclude": [
    "module",
    "function",
    "builtin_function_or_method",
    "instance",
    "_Feature"
   ],
   "window_display": false
  }
 },
 "nbformat": 4,
 "nbformat_minor": 2
}
